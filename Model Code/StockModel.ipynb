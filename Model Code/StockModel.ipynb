{
  "nbformat": 4,
  "nbformat_minor": 0,
  "metadata": {
    "colab": {
      "provenance": []
    },
    "kernelspec": {
      "name": "python3",
      "display_name": "Python 3"
    },
    "language_info": {
      "name": "python"
    }
  },
  "cells": [
    {
      "cell_type": "code",
      "execution_count": 1,
      "metadata": {
        "id": "g5uBoaKKS2_B",
        "colab": {
          "base_uri": "https://localhost:8080/",
          "height": 1000
        },
        "outputId": "62058fa8-e53a-4186-ebde-41bd3fcaa7fe"
      },
      "outputs": [
        {
          "output_type": "stream",
          "name": "stdout",
          "text": [
            "\r[*********************100%***********************]  1 of 1 completed\n"
          ]
        },
        {
          "output_type": "stream",
          "name": "stderr",
          "text": [
            "<ipython-input-1-0a31909f6639>:35: FutureWarning: The frame.append method is deprecated and will be removed from pandas in a future version. Use pandas.concat instead.\n",
            "  all_data = all_data.append(data)\n"
          ]
        },
        {
          "output_type": "stream",
          "name": "stdout",
          "text": [
            "\r[*********************100%***********************]  1 of 1 completed\n"
          ]
        },
        {
          "output_type": "stream",
          "name": "stderr",
          "text": [
            "<ipython-input-1-0a31909f6639>:35: FutureWarning: The frame.append method is deprecated and will be removed from pandas in a future version. Use pandas.concat instead.\n",
            "  all_data = all_data.append(data)\n"
          ]
        },
        {
          "output_type": "stream",
          "name": "stdout",
          "text": [
            "\r[*********************100%***********************]  1 of 1 completed\n"
          ]
        },
        {
          "output_type": "stream",
          "name": "stderr",
          "text": [
            "<ipython-input-1-0a31909f6639>:35: FutureWarning: The frame.append method is deprecated and will be removed from pandas in a future version. Use pandas.concat instead.\n",
            "  all_data = all_data.append(data)\n"
          ]
        },
        {
          "output_type": "stream",
          "name": "stdout",
          "text": [
            "\r[*********************100%***********************]  1 of 1 completed\n"
          ]
        },
        {
          "output_type": "stream",
          "name": "stderr",
          "text": [
            "<ipython-input-1-0a31909f6639>:35: FutureWarning: The frame.append method is deprecated and will be removed from pandas in a future version. Use pandas.concat instead.\n",
            "  all_data = all_data.append(data)\n"
          ]
        },
        {
          "output_type": "stream",
          "name": "stdout",
          "text": [
            "\r[*********************100%***********************]  1 of 1 completed\n"
          ]
        },
        {
          "output_type": "stream",
          "name": "stderr",
          "text": [
            "<ipython-input-1-0a31909f6639>:35: FutureWarning: The frame.append method is deprecated and will be removed from pandas in a future version. Use pandas.concat instead.\n",
            "  all_data = all_data.append(data)\n"
          ]
        },
        {
          "output_type": "stream",
          "name": "stdout",
          "text": [
            "\r[*********************100%***********************]  1 of 1 completed\n"
          ]
        },
        {
          "output_type": "stream",
          "name": "stderr",
          "text": [
            "<ipython-input-1-0a31909f6639>:35: FutureWarning: The frame.append method is deprecated and will be removed from pandas in a future version. Use pandas.concat instead.\n",
            "  all_data = all_data.append(data)\n"
          ]
        },
        {
          "output_type": "stream",
          "name": "stdout",
          "text": [
            "\r[*********************100%***********************]  1 of 1 completed\n"
          ]
        },
        {
          "output_type": "stream",
          "name": "stderr",
          "text": [
            "<ipython-input-1-0a31909f6639>:35: FutureWarning: The frame.append method is deprecated and will be removed from pandas in a future version. Use pandas.concat instead.\n",
            "  all_data = all_data.append(data)\n"
          ]
        },
        {
          "output_type": "stream",
          "name": "stdout",
          "text": [
            "\r[*********************100%***********************]  1 of 1 completed\n"
          ]
        },
        {
          "output_type": "stream",
          "name": "stderr",
          "text": [
            "<ipython-input-1-0a31909f6639>:35: FutureWarning: The frame.append method is deprecated and will be removed from pandas in a future version. Use pandas.concat instead.\n",
            "  all_data = all_data.append(data)\n"
          ]
        },
        {
          "output_type": "stream",
          "name": "stdout",
          "text": [
            "\r[*********************100%***********************]  1 of 1 completed\n"
          ]
        },
        {
          "output_type": "stream",
          "name": "stderr",
          "text": [
            "<ipython-input-1-0a31909f6639>:35: FutureWarning: The frame.append method is deprecated and will be removed from pandas in a future version. Use pandas.concat instead.\n",
            "  all_data = all_data.append(data)\n"
          ]
        },
        {
          "output_type": "stream",
          "name": "stdout",
          "text": [
            "\r[*********************100%***********************]  1 of 1 completed\n"
          ]
        },
        {
          "output_type": "stream",
          "name": "stderr",
          "text": [
            "<ipython-input-1-0a31909f6639>:35: FutureWarning: The frame.append method is deprecated and will be removed from pandas in a future version. Use pandas.concat instead.\n",
            "  all_data = all_data.append(data)\n"
          ]
        },
        {
          "output_type": "stream",
          "name": "stdout",
          "text": [
            "\r[*********************100%***********************]  1 of 1 completed\n"
          ]
        },
        {
          "output_type": "stream",
          "name": "stderr",
          "text": [
            "<ipython-input-1-0a31909f6639>:35: FutureWarning: The frame.append method is deprecated and will be removed from pandas in a future version. Use pandas.concat instead.\n",
            "  all_data = all_data.append(data)\n"
          ]
        },
        {
          "output_type": "stream",
          "name": "stdout",
          "text": [
            "\r[*********************100%***********************]  1 of 1 completed\n"
          ]
        },
        {
          "output_type": "stream",
          "name": "stderr",
          "text": [
            "<ipython-input-1-0a31909f6639>:35: FutureWarning: The frame.append method is deprecated and will be removed from pandas in a future version. Use pandas.concat instead.\n",
            "  all_data = all_data.append(data)\n"
          ]
        },
        {
          "output_type": "stream",
          "name": "stdout",
          "text": [
            "\r[*********************100%***********************]  1 of 1 completed\n"
          ]
        },
        {
          "output_type": "stream",
          "name": "stderr",
          "text": [
            "<ipython-input-1-0a31909f6639>:35: FutureWarning: The frame.append method is deprecated and will be removed from pandas in a future version. Use pandas.concat instead.\n",
            "  all_data = all_data.append(data)\n"
          ]
        },
        {
          "output_type": "stream",
          "name": "stdout",
          "text": [
            "\r[*********************100%***********************]  1 of 1 completed\n"
          ]
        },
        {
          "output_type": "stream",
          "name": "stderr",
          "text": [
            "<ipython-input-1-0a31909f6639>:35: FutureWarning: The frame.append method is deprecated and will be removed from pandas in a future version. Use pandas.concat instead.\n",
            "  all_data = all_data.append(data)\n"
          ]
        },
        {
          "output_type": "stream",
          "name": "stdout",
          "text": [
            "\r[*********************100%***********************]  1 of 1 completed\n"
          ]
        },
        {
          "output_type": "stream",
          "name": "stderr",
          "text": [
            "<ipython-input-1-0a31909f6639>:35: FutureWarning: The frame.append method is deprecated and will be removed from pandas in a future version. Use pandas.concat instead.\n",
            "  all_data = all_data.append(data)\n"
          ]
        },
        {
          "output_type": "stream",
          "name": "stdout",
          "text": [
            "\r[*********************100%***********************]  1 of 1 completed\n"
          ]
        },
        {
          "output_type": "stream",
          "name": "stderr",
          "text": [
            "<ipython-input-1-0a31909f6639>:35: FutureWarning: The frame.append method is deprecated and will be removed from pandas in a future version. Use pandas.concat instead.\n",
            "  all_data = all_data.append(data)\n"
          ]
        },
        {
          "output_type": "stream",
          "name": "stdout",
          "text": [
            "\r[*********************100%***********************]  1 of 1 completed\n"
          ]
        },
        {
          "output_type": "stream",
          "name": "stderr",
          "text": [
            "<ipython-input-1-0a31909f6639>:35: FutureWarning: The frame.append method is deprecated and will be removed from pandas in a future version. Use pandas.concat instead.\n",
            "  all_data = all_data.append(data)\n"
          ]
        },
        {
          "output_type": "stream",
          "name": "stdout",
          "text": [
            "\r[*********************100%***********************]  1 of 1 completed\n"
          ]
        },
        {
          "output_type": "stream",
          "name": "stderr",
          "text": [
            "<ipython-input-1-0a31909f6639>:35: FutureWarning: The frame.append method is deprecated and will be removed from pandas in a future version. Use pandas.concat instead.\n",
            "  all_data = all_data.append(data)\n"
          ]
        },
        {
          "output_type": "stream",
          "name": "stdout",
          "text": [
            "\r[*********************100%***********************]  1 of 1 completed\n"
          ]
        },
        {
          "output_type": "stream",
          "name": "stderr",
          "text": [
            "<ipython-input-1-0a31909f6639>:35: FutureWarning: The frame.append method is deprecated and will be removed from pandas in a future version. Use pandas.concat instead.\n",
            "  all_data = all_data.append(data)\n"
          ]
        },
        {
          "output_type": "stream",
          "name": "stdout",
          "text": [
            "\r[*********************100%***********************]  1 of 1 completed\n"
          ]
        },
        {
          "output_type": "stream",
          "name": "stderr",
          "text": [
            "<ipython-input-1-0a31909f6639>:35: FutureWarning: The frame.append method is deprecated and will be removed from pandas in a future version. Use pandas.concat instead.\n",
            "  all_data = all_data.append(data)\n"
          ]
        },
        {
          "output_type": "stream",
          "name": "stdout",
          "text": [
            "\r[*********************100%***********************]  1 of 1 completed\n"
          ]
        },
        {
          "output_type": "stream",
          "name": "stderr",
          "text": [
            "<ipython-input-1-0a31909f6639>:35: FutureWarning: The frame.append method is deprecated and will be removed from pandas in a future version. Use pandas.concat instead.\n",
            "  all_data = all_data.append(data)\n"
          ]
        },
        {
          "output_type": "stream",
          "name": "stdout",
          "text": [
            "\r[*********************100%***********************]  1 of 1 completed\n"
          ]
        },
        {
          "output_type": "stream",
          "name": "stderr",
          "text": [
            "<ipython-input-1-0a31909f6639>:35: FutureWarning: The frame.append method is deprecated and will be removed from pandas in a future version. Use pandas.concat instead.\n",
            "  all_data = all_data.append(data)\n"
          ]
        },
        {
          "output_type": "stream",
          "name": "stdout",
          "text": [
            "\r[*********************100%***********************]  1 of 1 completed\n"
          ]
        },
        {
          "output_type": "stream",
          "name": "stderr",
          "text": [
            "<ipython-input-1-0a31909f6639>:35: FutureWarning: The frame.append method is deprecated and will be removed from pandas in a future version. Use pandas.concat instead.\n",
            "  all_data = all_data.append(data)\n"
          ]
        },
        {
          "output_type": "stream",
          "name": "stdout",
          "text": [
            "\r[*********************100%***********************]  1 of 1 completed\n"
          ]
        },
        {
          "output_type": "stream",
          "name": "stderr",
          "text": [
            "<ipython-input-1-0a31909f6639>:35: FutureWarning: The frame.append method is deprecated and will be removed from pandas in a future version. Use pandas.concat instead.\n",
            "  all_data = all_data.append(data)\n"
          ]
        },
        {
          "output_type": "stream",
          "name": "stdout",
          "text": [
            "\r[*********************100%***********************]  1 of 1 completed\n"
          ]
        },
        {
          "output_type": "stream",
          "name": "stderr",
          "text": [
            "<ipython-input-1-0a31909f6639>:35: FutureWarning: The frame.append method is deprecated and will be removed from pandas in a future version. Use pandas.concat instead.\n",
            "  all_data = all_data.append(data)\n"
          ]
        },
        {
          "output_type": "stream",
          "name": "stdout",
          "text": [
            "\r[*********************100%***********************]  1 of 1 completed\n"
          ]
        },
        {
          "output_type": "stream",
          "name": "stderr",
          "text": [
            "<ipython-input-1-0a31909f6639>:35: FutureWarning: The frame.append method is deprecated and will be removed from pandas in a future version. Use pandas.concat instead.\n",
            "  all_data = all_data.append(data)\n"
          ]
        },
        {
          "output_type": "stream",
          "name": "stdout",
          "text": [
            "\r[*********************100%***********************]  1 of 1 completed\n"
          ]
        },
        {
          "output_type": "stream",
          "name": "stderr",
          "text": [
            "<ipython-input-1-0a31909f6639>:35: FutureWarning: The frame.append method is deprecated and will be removed from pandas in a future version. Use pandas.concat instead.\n",
            "  all_data = all_data.append(data)\n"
          ]
        },
        {
          "output_type": "stream",
          "name": "stdout",
          "text": [
            "\r[*********************100%***********************]  1 of 1 completed\n"
          ]
        },
        {
          "output_type": "stream",
          "name": "stderr",
          "text": [
            "<ipython-input-1-0a31909f6639>:35: FutureWarning: The frame.append method is deprecated and will be removed from pandas in a future version. Use pandas.concat instead.\n",
            "  all_data = all_data.append(data)\n"
          ]
        },
        {
          "output_type": "stream",
          "name": "stdout",
          "text": [
            "\r[*********************100%***********************]  1 of 1 completed\n"
          ]
        },
        {
          "output_type": "stream",
          "name": "stderr",
          "text": [
            "<ipython-input-1-0a31909f6639>:35: FutureWarning: The frame.append method is deprecated and will be removed from pandas in a future version. Use pandas.concat instead.\n",
            "  all_data = all_data.append(data)\n"
          ]
        },
        {
          "output_type": "stream",
          "name": "stdout",
          "text": [
            "\r[*********************100%***********************]  1 of 1 completed\n",
            "Hourly historical data for DJI stocks downloaded and saved as dji_stocks_hourly_historical_data.csv\n",
            "Training model for MMM...\n"
          ]
        },
        {
          "output_type": "stream",
          "name": "stderr",
          "text": [
            "<ipython-input-1-0a31909f6639>:35: FutureWarning: The frame.append method is deprecated and will be removed from pandas in a future version. Use pandas.concat instead.\n",
            "  all_data = all_data.append(data)\n"
          ]
        },
        {
          "output_type": "error",
          "ename": "KeyError",
          "evalue": "ignored",
          "traceback": [
            "\u001b[0;31m---------------------------------------------------------------------------\u001b[0m",
            "\u001b[0;31mKeyError\u001b[0m                                  Traceback (most recent call last)",
            "\u001b[0;32m<ipython-input-1-0a31909f6639>\u001b[0m in \u001b[0;36m<cell line: 116>\u001b[0;34m()\u001b[0m\n\u001b[1;32m    117\u001b[0m     \u001b[0mstock_data\u001b[0m \u001b[0;34m=\u001b[0m \u001b[0mall_data\u001b[0m\u001b[0;34m[\u001b[0m\u001b[0mall_data\u001b[0m\u001b[0;34m[\u001b[0m\u001b[0;34m'Ticker'\u001b[0m\u001b[0;34m]\u001b[0m \u001b[0;34m==\u001b[0m \u001b[0msymbol\u001b[0m\u001b[0;34m]\u001b[0m\u001b[0;34m\u001b[0m\u001b[0;34m\u001b[0m\u001b[0m\n\u001b[1;32m    118\u001b[0m     \u001b[0mprint\u001b[0m\u001b[0;34m(\u001b[0m\u001b[0;34mf\"Training model for {symbol}...\"\u001b[0m\u001b[0;34m)\u001b[0m\u001b[0;34m\u001b[0m\u001b[0;34m\u001b[0m\u001b[0m\n\u001b[0;32m--> 119\u001b[0;31m     \u001b[0mmodel\u001b[0m \u001b[0;34m=\u001b[0m \u001b[0mtrain_and_evaluate_stock\u001b[0m\u001b[0;34m(\u001b[0m\u001b[0mstock_data\u001b[0m\u001b[0;34m,\u001b[0m \u001b[0msymbol\u001b[0m\u001b[0;34m)\u001b[0m\u001b[0;34m\u001b[0m\u001b[0;34m\u001b[0m\u001b[0m\n\u001b[0m\u001b[1;32m    120\u001b[0m     \u001b[0mtrained_models\u001b[0m\u001b[0;34m[\u001b[0m\u001b[0msymbol\u001b[0m\u001b[0;34m]\u001b[0m \u001b[0;34m=\u001b[0m \u001b[0mmodel\u001b[0m\u001b[0;34m\u001b[0m\u001b[0;34m\u001b[0m\u001b[0m\n\u001b[1;32m    121\u001b[0m     \u001b[0mprint\u001b[0m\u001b[0;34m(\u001b[0m\u001b[0;34mf\"Finished training model for {symbol}\"\u001b[0m\u001b[0;34m)\u001b[0m\u001b[0;34m\u001b[0m\u001b[0;34m\u001b[0m\u001b[0m\n",
            "\u001b[0;32m<ipython-input-1-0a31909f6639>\u001b[0m in \u001b[0;36mtrain_and_evaluate_stock\u001b[0;34m(stock_data, symbol)\u001b[0m\n\u001b[1;32m     79\u001b[0m     \u001b[0mtf\u001b[0m\u001b[0;34m.\u001b[0m\u001b[0mrandom\u001b[0m\u001b[0;34m.\u001b[0m\u001b[0mset_seed\u001b[0m\u001b[0;34m(\u001b[0m\u001b[0;36m42\u001b[0m\u001b[0;34m)\u001b[0m\u001b[0;34m\u001b[0m\u001b[0;34m\u001b[0m\u001b[0m\n\u001b[1;32m     80\u001b[0m \u001b[0;34m\u001b[0m\u001b[0m\n\u001b[0;32m---> 81\u001b[0;31m     \u001b[0mstock_data\u001b[0m \u001b[0;34m=\u001b[0m \u001b[0mstock_data\u001b[0m\u001b[0;34m[\u001b[0m\u001b[0;34m[\u001b[0m\u001b[0;34m'Datetime'\u001b[0m\u001b[0;34m,\u001b[0m \u001b[0;34m'Close'\u001b[0m\u001b[0;34m]\u001b[0m\u001b[0;34m]\u001b[0m\u001b[0;34m.\u001b[0m\u001b[0mcopy\u001b[0m\u001b[0;34m(\u001b[0m\u001b[0;34m)\u001b[0m\u001b[0;34m\u001b[0m\u001b[0;34m\u001b[0m\u001b[0m\n\u001b[0m\u001b[1;32m     82\u001b[0m     \u001b[0mstock_data\u001b[0m\u001b[0;34m[\u001b[0m\u001b[0;34m'Datetime'\u001b[0m\u001b[0;34m]\u001b[0m \u001b[0;34m=\u001b[0m \u001b[0mstock_data\u001b[0m\u001b[0;34m[\u001b[0m\u001b[0;34m'Datetime'\u001b[0m\u001b[0;34m]\u001b[0m\u001b[0;34m.\u001b[0m\u001b[0mapply\u001b[0m\u001b[0;34m(\u001b[0m\u001b[0mstr_to_datetime\u001b[0m\u001b[0;34m)\u001b[0m\u001b[0;34m\u001b[0m\u001b[0;34m\u001b[0m\u001b[0m\n\u001b[1;32m     83\u001b[0m \u001b[0;34m\u001b[0m\u001b[0m\n",
            "\u001b[0;32m/usr/local/lib/python3.9/dist-packages/pandas/core/frame.py\u001b[0m in \u001b[0;36m__getitem__\u001b[0;34m(self, key)\u001b[0m\n\u001b[1;32m   3811\u001b[0m             \u001b[0;32mif\u001b[0m \u001b[0mis_iterator\u001b[0m\u001b[0;34m(\u001b[0m\u001b[0mkey\u001b[0m\u001b[0;34m)\u001b[0m\u001b[0;34m:\u001b[0m\u001b[0;34m\u001b[0m\u001b[0;34m\u001b[0m\u001b[0m\n\u001b[1;32m   3812\u001b[0m                 \u001b[0mkey\u001b[0m \u001b[0;34m=\u001b[0m \u001b[0mlist\u001b[0m\u001b[0;34m(\u001b[0m\u001b[0mkey\u001b[0m\u001b[0;34m)\u001b[0m\u001b[0;34m\u001b[0m\u001b[0;34m\u001b[0m\u001b[0m\n\u001b[0;32m-> 3813\u001b[0;31m             \u001b[0mindexer\u001b[0m \u001b[0;34m=\u001b[0m \u001b[0mself\u001b[0m\u001b[0;34m.\u001b[0m\u001b[0mcolumns\u001b[0m\u001b[0;34m.\u001b[0m\u001b[0m_get_indexer_strict\u001b[0m\u001b[0;34m(\u001b[0m\u001b[0mkey\u001b[0m\u001b[0;34m,\u001b[0m \u001b[0;34m\"columns\"\u001b[0m\u001b[0;34m)\u001b[0m\u001b[0;34m[\u001b[0m\u001b[0;36m1\u001b[0m\u001b[0;34m]\u001b[0m\u001b[0;34m\u001b[0m\u001b[0;34m\u001b[0m\u001b[0m\n\u001b[0m\u001b[1;32m   3814\u001b[0m \u001b[0;34m\u001b[0m\u001b[0m\n\u001b[1;32m   3815\u001b[0m         \u001b[0;31m# take() does not accept boolean indexers\u001b[0m\u001b[0;34m\u001b[0m\u001b[0;34m\u001b[0m\u001b[0m\n",
            "\u001b[0;32m/usr/local/lib/python3.9/dist-packages/pandas/core/indexes/base.py\u001b[0m in \u001b[0;36m_get_indexer_strict\u001b[0;34m(self, key, axis_name)\u001b[0m\n\u001b[1;32m   6068\u001b[0m             \u001b[0mkeyarr\u001b[0m\u001b[0;34m,\u001b[0m \u001b[0mindexer\u001b[0m\u001b[0;34m,\u001b[0m \u001b[0mnew_indexer\u001b[0m \u001b[0;34m=\u001b[0m \u001b[0mself\u001b[0m\u001b[0;34m.\u001b[0m\u001b[0m_reindex_non_unique\u001b[0m\u001b[0;34m(\u001b[0m\u001b[0mkeyarr\u001b[0m\u001b[0;34m)\u001b[0m\u001b[0;34m\u001b[0m\u001b[0;34m\u001b[0m\u001b[0m\n\u001b[1;32m   6069\u001b[0m \u001b[0;34m\u001b[0m\u001b[0m\n\u001b[0;32m-> 6070\u001b[0;31m         \u001b[0mself\u001b[0m\u001b[0;34m.\u001b[0m\u001b[0m_raise_if_missing\u001b[0m\u001b[0;34m(\u001b[0m\u001b[0mkeyarr\u001b[0m\u001b[0;34m,\u001b[0m \u001b[0mindexer\u001b[0m\u001b[0;34m,\u001b[0m \u001b[0maxis_name\u001b[0m\u001b[0;34m)\u001b[0m\u001b[0;34m\u001b[0m\u001b[0;34m\u001b[0m\u001b[0m\n\u001b[0m\u001b[1;32m   6071\u001b[0m \u001b[0;34m\u001b[0m\u001b[0m\n\u001b[1;32m   6072\u001b[0m         \u001b[0mkeyarr\u001b[0m \u001b[0;34m=\u001b[0m \u001b[0mself\u001b[0m\u001b[0;34m.\u001b[0m\u001b[0mtake\u001b[0m\u001b[0;34m(\u001b[0m\u001b[0mindexer\u001b[0m\u001b[0;34m)\u001b[0m\u001b[0;34m\u001b[0m\u001b[0;34m\u001b[0m\u001b[0m\n",
            "\u001b[0;32m/usr/local/lib/python3.9/dist-packages/pandas/core/indexes/base.py\u001b[0m in \u001b[0;36m_raise_if_missing\u001b[0;34m(self, key, indexer, axis_name)\u001b[0m\n\u001b[1;32m   6131\u001b[0m \u001b[0;34m\u001b[0m\u001b[0m\n\u001b[1;32m   6132\u001b[0m             \u001b[0mnot_found\u001b[0m \u001b[0;34m=\u001b[0m \u001b[0mlist\u001b[0m\u001b[0;34m(\u001b[0m\u001b[0mensure_index\u001b[0m\u001b[0;34m(\u001b[0m\u001b[0mkey\u001b[0m\u001b[0;34m)\u001b[0m\u001b[0;34m[\u001b[0m\u001b[0mmissing_mask\u001b[0m\u001b[0;34m.\u001b[0m\u001b[0mnonzero\u001b[0m\u001b[0;34m(\u001b[0m\u001b[0;34m)\u001b[0m\u001b[0;34m[\u001b[0m\u001b[0;36m0\u001b[0m\u001b[0;34m]\u001b[0m\u001b[0;34m]\u001b[0m\u001b[0;34m.\u001b[0m\u001b[0munique\u001b[0m\u001b[0;34m(\u001b[0m\u001b[0;34m)\u001b[0m\u001b[0;34m)\u001b[0m\u001b[0;34m\u001b[0m\u001b[0;34m\u001b[0m\u001b[0m\n\u001b[0;32m-> 6133\u001b[0;31m             \u001b[0;32mraise\u001b[0m \u001b[0mKeyError\u001b[0m\u001b[0;34m(\u001b[0m\u001b[0;34mf\"{not_found} not in index\"\u001b[0m\u001b[0;34m)\u001b[0m\u001b[0;34m\u001b[0m\u001b[0;34m\u001b[0m\u001b[0m\n\u001b[0m\u001b[1;32m   6134\u001b[0m \u001b[0;34m\u001b[0m\u001b[0m\n\u001b[1;32m   6135\u001b[0m     \u001b[0;34m@\u001b[0m\u001b[0moverload\u001b[0m\u001b[0;34m\u001b[0m\u001b[0;34m\u001b[0m\u001b[0m\n",
            "\u001b[0;31mKeyError\u001b[0m: \"['Datetime'] not in index\""
          ]
        }
      ],
      "source": [
        "import yfinance as yf\n",
        "import pandas as pd\n",
        "import datetime\n",
        "import numpy as np\n",
        "import tensorflow as tf\n",
        "from tensorflow.keras.models import Sequential\n",
        "from tensorflow.keras.layers import Dense, LSTM\n",
        "from sklearn.preprocessing import MinMaxScaler\n",
        "from sklearn.metrics import mean_squared_error\n",
        "import matplotlib.pyplot as plt\n",
        "\n",
        "# Define the ticker symbols of DJI's constituent stocks\n",
        "dji_stocks = [\n",
        "    'MMM', 'AXP', 'AMGN', 'AAPL', 'BA', 'CAT', 'CVX', 'CSCO',\n",
        "    'KO', 'GS', 'HD', 'HON', 'IBM', 'INTC', 'JNJ', 'JPM',\n",
        "    'MCD', 'MRK', 'MSFT', 'NKE', 'PG', 'CRM', 'TRV', 'UNH',\n",
        "    'VZ', 'V', 'WBA', 'WMT', 'DIS', 'DOW'\n",
        "]\n",
        "\n",
        "start_date = '2021-05-17'  # Adjust the start date to a more recent date due to hourly data limitations\n",
        "end_date = datetime.datetime.now().strftime('%Y-%m-%d')\n",
        "\n",
        "# Initialize an empty DataFrame to store historical data for all stocks\n",
        "all_data = pd.DataFrame()\n",
        "\n",
        "for symbol in dji_stocks:\n",
        "    # Download the hourly historical data\n",
        "    # data = yf.download(symbol, start=start_date, end=end_date, interval='1h')\n",
        "    data = yf.download(symbol, start=start_date, end=end_date)\n",
        "\n",
        "    # Add a 'Ticker' column to the data with the current symbol\n",
        "    data['Ticker'] = symbol\n",
        "\n",
        "    # Append the data to the all_data DataFrame\n",
        "    all_data = all_data.append(data)\n",
        "\n",
        "# Reset the index, creating a separate index column\n",
        "all_data = all_data.reset_index(drop=False)\n",
        "\n",
        "# Rename the new index column\n",
        "all_data = all_data.rename(columns={'index': 'Timestamp'})\n",
        "\n",
        "# Save the data to a CSV file\n",
        "all_data.to_csv('dji_stocks_hourly_historical_data.csv')\n",
        "\n",
        "print(\"Hourly historical data for DJI stocks downloaded and saved as dji_stocks_hourly_historical_data.csv\")\n",
        "\n",
        "\n",
        "# Function to convert string to datetime\n",
        "def str_to_datetime(s):\n",
        "    return pd.to_datetime(s)\n",
        "\n",
        "# Function to convert datetime to string\n",
        "def datetime_to_str(d):\n",
        "    return d.strftime('%Y-%m-%d')\n",
        "\n",
        "# Function to create a dataset with a look_back window\n",
        "def create_dataset(dataset, look_back=1):\n",
        "    dataX, dataY = [], []\n",
        "    for i in range(len(dataset) - look_back - 1):\n",
        "        a = dataset[i:(i + look_back), 0]\n",
        "        dataX.append(a)\n",
        "        dataY.append(dataset[i + look_back, 0])\n",
        "    return np.array(dataX), np.array(dataY)\n",
        "\n",
        "# Function to convert a windowed DataFrame to separate date, X, and y arrays\n",
        "def windowed_df_to_date_X_y(windowed_dataframe):\n",
        "    df_as_np = windowed_dataframe.to_numpy()\n",
        "\n",
        "    dates = df_as_np[:, 0]\n",
        "    X = df_as_np[:, 1:-1]\n",
        "    y = df_as_np[:, -1]\n",
        "\n",
        "    return dates, X, y\n",
        "    \n",
        "# Function to train and evaluate a stock LSTM model\n",
        "def train_and_evaluate_stock(stock_data, symbol):\n",
        "    np.random.seed(42)\n",
        "    tf.random.set_seed(42)\n",
        "\n",
        "    stock_data = stock_data[['Datet', 'Close']].copy()\n",
        "    stock_data['Datetime'] = stock_data['Datetime'].apply(str_to_datetime)\n",
        "\n",
        "    scaler = MinMaxScaler(feature_range=(0, 1))\n",
        "    stock_data['Close'] = scaler.fit_transform(stock_data['Close'].values.reshape(-1, 1))\n",
        "\n",
        "    look_back = 10\n",
        "\n",
        "    stock_data = stock_data[['Close']].copy()\n",
        "    stock_data = pd.concat([stock_data.shift(look_back - i) for i in range(look_back + 1)], axis=1)\n",
        "    stock_data = stock_data.dropna()\n",
        "\n",
        "    train_dates, train_X, train_y = windowed_df_to_date_X_y(stock_data)\n",
        "    train_X = np.reshape(train_X, (train_X.shape[0], 1, train_X.shape[1]))\n",
        "\n",
        "    model = Sequential()\n",
        "    model.add(LSTM(4, input_shape=(1, look_back - 1)))\n",
        "    model.add(Dense(1))\n",
        "    model.compile(loss='mean_squared_error', optimizer='adam')\n",
        "    model.fit(train_X, train_y, epochs=100, batch_size=1, verbose=2)\n",
        "\n",
        "    # Save the trained model\n",
        "    model.save(f\"{symbol}_lstm_model.h5\")\n",
        "\n",
        "    trainPredict = model.predict(train_X)\n",
        "    trainPredict = scaler.inverse_transform(trainPredict)\n",
        "    train_y = scaler.inverse_transform(train_y.reshape(-1, 1))\n",
        "\n",
        "    trainScore = np.sqrt(mean_squared_error(train_y, trainPredict[:, 0]))\n",
        "    print(f\"{symbol} Train Score: {trainScore:.2f} RMSE\")\n",
        "\n",
        "    return model\n",
        "\n",
        "trained_models = {}\n",
        "\n",
        "for symbol in dji_stocks:\n",
        "    stock_data = all_data[all_data['Ticker'] == symbol]\n",
        "    print(f\"Training model for {symbol}...\")\n",
        "    model = train_and_evaluate_stock(stock_data, symbol)\n",
        "    trained_models[symbol] = model\n",
        "    print(f\"Finished training model for {symbol}\")\n"
      ]
    },
    {
      "cell_type": "code",
      "source": [
        "from IPython.testing import test\n",
        "import yfinance as yf\n",
        "import pandas as pd\n",
        "import datetime\n",
        "import numpy as np\n",
        "import tensorflow as tf\n",
        "from tensorflow.keras.models import Sequential\n",
        "from tensorflow.keras.layers import Dense, LSTM\n",
        "from sklearn.preprocessing import MinMaxScaler\n",
        "from sklearn.metrics import mean_squared_error\n",
        "import matplotlib.pyplot as plt\n",
        "\n",
        "\n",
        "# Load the test data\n",
        "test_data = pd.read_csv('dji.csv')\n",
        "\n",
        "stock = 'AAPL'\n",
        "# Load the trained model\n",
        "model = tf.keras.models.load_model('AAPL_lstm_model.h5')\n",
        "\n",
        "# Preprocess the test data\n",
        "scaler = MinMaxScaler(feature_range=(0, 1))\n",
        "look_back = 10\n",
        "\n",
        "test_data = test_data[test_data['Ticker']==stock]\n",
        "all_test_data = test_data\n",
        "\n",
        "test_data['Close'] = scaler.fit_transform(test_data['Close'].values.reshape(-1, 1))\n",
        "test_data = test_data[['Close']].copy()\n",
        "test_data = pd.concat([test_data.shift(look_back - i) for i in range(look_back + 1)], axis=1)\n",
        "test_data = test_data.dropna()\n",
        "test_dates, test_X, test_y = windowed_df_to_date_X_y(test_data)\n",
        "test_X = np.reshape(test_X, (test_X.shape[0], 1, test_X.shape[1]))\n",
        "\n",
        "# Make predictions\n",
        "testPredict = model.predict(test_X)\n",
        "testPredict = scaler.inverse_transform(testPredict)\n",
        "test_y = scaler.inverse_transform(test_y.reshape(-1, 1))\n",
        "\n",
        "# Evaluate the model\n",
        "testScore = np.sqrt(mean_squared_error(test_y, testPredict[:, 0]))\n",
        "print(f\"AAPL Test Score: {testScore:.2f} RMSE\")\n",
        "\n"
      ],
      "metadata": {
        "colab": {
          "base_uri": "https://localhost:8080/"
        },
        "id": "FLvRd_NLVPeL",
        "outputId": "c529a04c-15f8-4d0c-b0fa-3d090d569db3"
      },
      "execution_count": 2,
      "outputs": [
        {
          "output_type": "stream",
          "name": "stderr",
          "text": [
            "<ipython-input-2-8db818ac00c7>:28: SettingWithCopyWarning: \n",
            "A value is trying to be set on a copy of a slice from a DataFrame.\n",
            "Try using .loc[row_indexer,col_indexer] = value instead\n",
            "\n",
            "See the caveats in the documentation: https://pandas.pydata.org/pandas-docs/stable/user_guide/indexing.html#returning-a-view-versus-a-copy\n",
            "  test_data['Close'] = scaler.fit_transform(test_data['Close'].values.reshape(-1, 1))\n"
          ]
        },
        {
          "output_type": "stream",
          "name": "stdout",
          "text": [
            "15/15 [==============================] - 1s 2ms/step\n",
            "AAPL Test Score: 2.92 RMSE\n"
          ]
        }
      ]
    },
    {
      "cell_type": "code",
      "source": [
        "testPredict[:,0]"
      ],
      "metadata": {
        "colab": {
          "base_uri": "https://localhost:8080/"
        },
        "id": "nN4MOZ0oUlRU",
        "outputId": "59bdd490-149c-4912-98c5-14cf0305656b"
      },
      "execution_count": 6,
      "outputs": [
        {
          "output_type": "execute_result",
          "data": {
            "text/plain": [
              "array([124.95965 , 124.6598  , 125.30713 , 124.431786, 125.97969 ,\n",
              "       126.320465, 126.83057 , 127.312195, 126.36477 , 127.1374  ,\n",
              "       129.77089 , 129.66238 , 130.12756 , 131.44414 , 130.40019 ,\n",
              "       131.8127  , 133.5574  , 133.53966 , 133.49869 , 133.05424 ,\n",
              "       134.2812  , 135.98717 , 136.80931 , 137.28586 , 139.51532 ,\n",
              "       141.59239 , 144.04645 , 143.31166 , 144.56038 , 144.3305  ,\n",
              "       144.9695  , 148.55981 , 148.32094 , 146.38173 , 142.75043 ,\n",
              "       145.16533 , 145.29425 , 146.37582 , 148.64435 , 148.84639 ,\n",
              "       146.96861 , 144.94687 , 145.15451 , 145.54109 , 145.41496 ,\n",
              "       147.19572 , 147.04623 , 146.95815 , 146.2172  , 145.81854 ,\n",
              "       145.49487 , 145.63657 , 148.44514 , 149.04738 , 150.7656  ,\n",
              "       150.29459 , 146.3766  , 146.30971 , 147.64478 , 149.1893  ,\n",
              "       149.69096 , 148.49501 , 147.53604 , 148.23737 , 152.348   ,\n",
              "       151.86789 , 152.23051 , 153.50299 , 153.77608 , 156.15857 ,\n",
              "       155.0125  , 153.68599 , 149.18556 , 148.8155  , 148.01442 ,\n",
              "       148.55861 , 149.01472 , 146.40657 , 143.403   , 143.31462 ,\n",
              "       145.4188  , 146.75504 , 147.11464 , 145.73378 , 142.2378  ,\n",
              "       142.43214 , 141.42313 , 142.31244 , 139.93468 , 140.92902 ,\n",
              "       142.16702 , 143.05731 , 143.18477 , 142.83344 , 141.61018 ,\n",
              "       140.78513 , 143.20914 , 144.6422  , 146.31863 , 148.59785 ,\n",
              "       149.05125 , 149.21695 , 148.47444 , 148.1587  , 148.89888 ,\n",
              "       148.58891 , 151.93993 , 150.06064 , 148.7013  , 149.86943 ,\n",
              "       150.89783 , 150.83052 , 151.11069 , 150.36671 , 150.49371 ,\n",
              "       148.01    , 147.50546 , 149.64017 , 149.80865 , 150.84468 ,\n",
              "       153.20769 , 157.12883 , 160.03477 , 160.64787 , 160.98698 ,\n",
              "       161.42296 , 156.62952 , 159.27846 , 164.57625 , 164.32541 ,\n",
              "       163.65785 , 161.78108 , 164.35928 , 170.19312 , 174.12576 ,\n",
              "       174.01491 , 177.97011 , 175.46475 , 173.56233 , 178.4578  ,\n",
              "       172.30495 , 170.48502 , 169.728   , 171.86516 , 175.0137  ,\n",
              "       175.54729 , 178.98123 , 178.4809  , 178.42793 , 177.82088 ,\n",
              "       176.92911 , 180.86339 , 179.28201 , 174.62495 , 171.90923 ,\n",
              "       171.58003 , 171.73494 , 174.32149 , 175.0558  , 171.90547 ,\n",
              "       172.48969 , 169.70506 , 165.85815 , 164.35136 , 162.10292 ,\n",
              "       161.32161 , 159.71536 , 159.42749 , 159.1187  , 168.58865 ,\n",
              "       173.7022  , 173.61432 , 175.07457 , 172.46089 , 171.57617 ,\n",
              "       171.33989 , 173.91936 , 175.7425  , 171.97997 , 168.51807 ,\n",
              "       168.43825 , 171.88976 , 172.20961 , 168.84505 , 167.13089 ,\n",
              "       164.13786 , 159.77753 , 162.10992 , 164.42004 , 164.7427  ,\n",
              "       163.25987 , 165.83945 , 165.94707 , 162.9078  , 159.30455 ,\n",
              "       157.01852 , 161.97346 , 158.72685 , 154.62737 , 151.09686 ,\n",
              "       154.02684 , 159.0059  , 160.28911 , 163.49132 , 164.8793  ,\n",
              "       167.77434 , 169.69028 , 173.01053 , 174.13957 , 174.7993  ,\n",
              "       177.98524 , 177.22849 , 174.22615 , 173.93199 , 177.41225 ,\n",
              "       174.88936 , 171.5769  , 171.85368 , 169.73055 , 165.61911 ,\n",
              "       167.1549  , 169.79616 , 165.32263 , 164.78513 , 166.95361 ,\n",
              "       166.69017 , 166.21127 , 161.93477 , 162.24133 , 157.01392 ,\n",
              "       155.84393 , 162.86055 , 157.93427 , 157.60342 , 159.38704 ,\n",
              "       164.53941 , 157.51631 , 156.59865 , 152.49814 , 153.19066 ,\n",
              "       147.24866 , 142.42084 , 146.82063 , 145.6602  , 148.94893 ,\n",
              "       142.52821 , 137.68517 , 137.84677 , 141.88599 , 141.04655 ,\n",
              "       141.0508  , 143.85878 , 148.66487 , 148.90674 , 148.53484 ,\n",
              "       150.7196  , 145.4476  , 145.29631 , 148.18245 , 147.48637 ,\n",
              "       143.33336 , 137.88156 , 132.49817 , 132.70955 , 135.4552  ,\n",
              "       131.98639 , 132.69583 , 135.89584 , 135.60168 , 138.18504 ,\n",
              "       141.32549 , 141.4405  , 137.86359 , 138.50902 , 136.52942 ,\n",
              "       138.14381 , 141.37378 , 142.7311  , 146.12396 , 146.98978 ,\n",
              "       144.81866 , 145.44821 , 145.04909 , 147.6025  , 149.92094 ,\n",
              "       147.20348 , 150.41661 , 152.68379 , 154.58914 , 154.18803 ,\n",
              "       152.63713 , 151.34387 , 155.74754 , 157.07802 , 161.57584 ,\n",
              "       161.61336 , 159.54895 , 165.20815 , 165.42387 , 164.65993 ,\n",
              "       164.79233 , 164.3008  , 168.39532 , 168.25461 , 171.15042 ,\n",
              "       172.75066 , 172.31995 , 173.96072 , 173.68631 , 171.17036 ,\n",
              "       167.48045 , 166.75912 , 167.12695 , 169.38345 , 163.9962  ,\n",
              "       161.0943  , 158.95059 , 156.65964 , 157.68506 , 155.83388 ,\n",
              "       154.47006 , 155.75975 , 154.41376 , 156.84645 , 162.64284 ,\n",
              "       154.45587 , 154.66269 , 152.60374 , 149.60204 , 154.13019 ,\n",
              "       156.41106 , 153.83836 , 152.80942 , 150.42805 , 150.16766 ,\n",
              "       151.44974 , 149.79654 , 143.22685 , 138.69362 , 141.72304 ,\n",
              "       145.5784  , 146.69832 , 146.17978 , 141.10149 , 140.11046 ,\n",
              "       138.83008 , 137.98419 , 142.67033 , 139.40904 , 142.04579 ,\n",
              "       143.9115  , 143.45374 , 143.60515 , 146.54881 , 148.95209 ,\n",
              "       151.7655  , 149.56967 , 144.80092 , 154.0411  , 153.35141 ,\n",
              "       150.10432 , 145.93594 , 138.70587 , 137.91464 , 138.70042 ,\n",
              "       139.58238 , 136.65543 , 145.58861 , 149.63258 , 148.17513 ,\n",
              "       150.17961 , 148.42819 , 149.61835 , 150.85776 , 147.56783 ,\n",
              "       149.69548 , 150.81773 , 147.99406 , 144.57072 , 141.27884 ,\n",
              "       146.86188 , 148.33969 , 147.8581  , 147.24657 , 143.1776  ,\n",
              "       140.80133 , 142.1188  , 141.99187 , 144.38458 , 145.72028 ,\n",
              "       143.58594 , 137.45563 , 134.5355  , 132.4407  , 132.40758 ,\n",
              "       135.67046 , 133.66473 , 132.82439 , 131.0049  , 126.97165 ,\n",
              "       129.33359 , 130.18402 , 126.6039  , 127.15776 , 125.779274,\n",
              "       128.9051  , 130.47545 , 130.8258  , 133.28601 , 133.17213 ,\n",
              "       134.16362 , 135.50302 , 134.88795 , 135.0469  , 137.25774 ,\n",
              "       140.42722 , 142.29694 , 141.94499 , 143.52197 , 145.3894  ,\n",
              "       142.90935 , 143.7899  , 145.08551 , 149.76843 , 154.09099 ,\n",
              "       151.83434 , 154.0657  , 151.9337  , 149.98492 , 150.70319 ,\n",
              "       153.00073 , 153.11339 , 154.93008 , 153.8364  , 152.25629 ,\n",
              "       148.62663 , 148.27864 , 149.11317 , 146.7749  , 147.84395 ,\n",
              "       147.5931  , 145.42381 , 145.91986 , 150.30896 , 153.41846 ,\n",
              "       151.79501 , 152.6267  , 150.5615  , 147.96912 , 149.9142  ,\n",
              "       152.0021  , 152.771   , 155.51613 , 154.9826  , 156.7557  ,\n",
              "       158.91673 , 157.46823 , 158.46976 , 159.8294  , 157.95    ,\n",
              "       157.36075 , 160.1701  , 161.85097 , 164.32445 , 165.82773 ,\n",
              "       165.22055 , 163.53261 , 164.11928 , 161.82301 , 160.35527 ,\n",
              "       159.9225  , 164.59074 , 165.08403 , 164.80562 , 166.19086 ,\n",
              "       166.99243 , 166.33554 , 164.77933 , 164.885   ], dtype=float32)"
            ]
          },
          "metadata": {},
          "execution_count": 6
        }
      ]
    },
    {
      "cell_type": "code",
      "source": [
        "testPredict[:,0].shape"
      ],
      "metadata": {
        "colab": {
          "base_uri": "https://localhost:8080/"
        },
        "id": "LRiPs6OdTnXV",
        "outputId": "b568306c-2089-4f08-d4a0-78c24cf9511d"
      },
      "execution_count": null,
      "outputs": [
        {
          "output_type": "execute_result",
          "data": {
            "text/plain": [
              "(479,)"
            ]
          },
          "metadata": {},
          "execution_count": 21
        }
      ]
    },
    {
      "cell_type": "code",
      "source": [
        "all_test_data['Date'][10:]"
      ],
      "metadata": {
        "colab": {
          "base_uri": "https://localhost:8080/"
        },
        "id": "vpS4jIRHU8DZ",
        "outputId": "813590d3-3361-4141-a73f-364852338d5e"
      },
      "execution_count": null,
      "outputs": [
        {
          "output_type": "execute_result",
          "data": {
            "text/plain": [
              "1477    2021-06-01\n",
              "1478    2021-06-02\n",
              "1479    2021-06-03\n",
              "1480    2021-06-04\n",
              "1481    2021-06-07\n",
              "           ...    \n",
              "1951    2023-04-19\n",
              "1952    2023-04-20\n",
              "1953    2023-04-21\n",
              "1954    2023-04-24\n",
              "1955    2023-04-25\n",
              "Name: Date, Length: 479, dtype: object"
            ]
          },
          "metadata": {},
          "execution_count": 30
        }
      ]
    },
    {
      "cell_type": "code",
      "source": [
        "\n",
        "fig = px.line(x=all_test_data['Date'][10:], y=testPredict[:,0], title='Time Series with Rangeslider')\n",
        "\n",
        "fig.update_xaxes(rangeslider_visible=True)\n",
        "fig.show()"
      ],
      "metadata": {
        "colab": {
          "base_uri": "https://localhost:8080/",
          "height": 542
        },
        "id": "Qp_KHLujURpf",
        "outputId": "834cf05b-55a6-42dd-d266-0758b6394c39"
      },
      "execution_count": null,
      "outputs": [
        {
          "output_type": "display_data",
          "data": {
            "text/html": [
              "<html>\n",
              "<head><meta charset=\"utf-8\" /></head>\n",
              "<body>\n",
              "    <div>            <script src=\"https://cdnjs.cloudflare.com/ajax/libs/mathjax/2.7.5/MathJax.js?config=TeX-AMS-MML_SVG\"></script><script type=\"text/javascript\">if (window.MathJax && window.MathJax.Hub && window.MathJax.Hub.Config) {window.MathJax.Hub.Config({SVG: {font: \"STIX-Web\"}});}</script>                <script type=\"text/javascript\">window.PlotlyConfig = {MathJaxConfig: 'local'};</script>\n",
              "        <script src=\"https://cdn.plot.ly/plotly-2.18.2.min.js\"></script>                <div id=\"7f790f5e-5bd7-46a4-828f-5285f2f7d6fe\" class=\"plotly-graph-div\" style=\"height:525px; width:100%;\"></div>            <script type=\"text/javascript\">                                    window.PLOTLYENV=window.PLOTLYENV || {};                                    if (document.getElementById(\"7f790f5e-5bd7-46a4-828f-5285f2f7d6fe\")) {                    Plotly.newPlot(                        \"7f790f5e-5bd7-46a4-828f-5285f2f7d6fe\",                        [{\"hovertemplate\":\"x=%{x}<br>y=%{y}<extra></extra>\",\"legendgroup\":\"\",\"line\":{\"color\":\"#636efa\",\"dash\":\"solid\"},\"marker\":{\"symbol\":\"circle\"},\"mode\":\"lines\",\"name\":\"\",\"orientation\":\"v\",\"showlegend\":false,\"x\":[\"2021-06-01\",\"2021-06-02\",\"2021-06-03\",\"2021-06-04\",\"2021-06-07\",\"2021-06-08\",\"2021-06-09\",\"2021-06-10\",\"2021-06-11\",\"2021-06-14\",\"2021-06-15\",\"2021-06-16\",\"2021-06-17\",\"2021-06-18\",\"2021-06-21\",\"2021-06-22\",\"2021-06-23\",\"2021-06-24\",\"2021-06-25\",\"2021-06-28\",\"2021-06-29\",\"2021-06-30\",\"2021-07-01\",\"2021-07-02\",\"2021-07-06\",\"2021-07-07\",\"2021-07-08\",\"2021-07-09\",\"2021-07-12\",\"2021-07-13\",\"2021-07-14\",\"2021-07-15\",\"2021-07-16\",\"2021-07-19\",\"2021-07-20\",\"2021-07-21\",\"2021-07-22\",\"2021-07-23\",\"2021-07-26\",\"2021-07-27\",\"2021-07-28\",\"2021-07-29\",\"2021-07-30\",\"2021-08-02\",\"2021-08-03\",\"2021-08-04\",\"2021-08-05\",\"2021-08-06\",\"2021-08-09\",\"2021-08-10\",\"2021-08-11\",\"2021-08-12\",\"2021-08-13\",\"2021-08-16\",\"2021-08-17\",\"2021-08-18\",\"2021-08-19\",\"2021-08-20\",\"2021-08-23\",\"2021-08-24\",\"2021-08-25\",\"2021-08-26\",\"2021-08-27\",\"2021-08-30\",\"2021-08-31\",\"2021-09-01\",\"2021-09-02\",\"2021-09-03\",\"2021-09-07\",\"2021-09-08\",\"2021-09-09\",\"2021-09-10\",\"2021-09-13\",\"2021-09-14\",\"2021-09-15\",\"2021-09-16\",\"2021-09-17\",\"2021-09-20\",\"2021-09-21\",\"2021-09-22\",\"2021-09-23\",\"2021-09-24\",\"2021-09-27\",\"2021-09-28\",\"2021-09-29\",\"2021-09-30\",\"2021-10-01\",\"2021-10-04\",\"2021-10-05\",\"2021-10-06\",\"2021-10-07\",\"2021-10-08\",\"2021-10-11\",\"2021-10-12\",\"2021-10-13\",\"2021-10-14\",\"2021-10-15\",\"2021-10-18\",\"2021-10-19\",\"2021-10-20\",\"2021-10-21\",\"2021-10-22\",\"2021-10-25\",\"2021-10-26\",\"2021-10-27\",\"2021-10-28\",\"2021-10-29\",\"2021-11-01\",\"2021-11-02\",\"2021-11-03\",\"2021-11-04\",\"2021-11-05\",\"2021-11-08\",\"2021-11-09\",\"2021-11-10\",\"2021-11-11\",\"2021-11-12\",\"2021-11-15\",\"2021-11-16\",\"2021-11-17\",\"2021-11-18\",\"2021-11-19\",\"2021-11-22\",\"2021-11-23\",\"2021-11-24\",\"2021-11-26\",\"2021-11-29\",\"2021-11-30\",\"2021-12-01\",\"2021-12-02\",\"2021-12-03\",\"2021-12-06\",\"2021-12-07\",\"2021-12-08\",\"2021-12-09\",\"2021-12-10\",\"2021-12-13\",\"2021-12-14\",\"2021-12-15\",\"2021-12-16\",\"2021-12-17\",\"2021-12-20\",\"2021-12-21\",\"2021-12-22\",\"2021-12-23\",\"2021-12-27\",\"2021-12-28\",\"2021-12-29\",\"2021-12-30\",\"2021-12-31\",\"2022-01-03\",\"2022-01-04\",\"2022-01-05\",\"2022-01-06\",\"2022-01-07\",\"2022-01-10\",\"2022-01-11\",\"2022-01-12\",\"2022-01-13\",\"2022-01-14\",\"2022-01-18\",\"2022-01-19\",\"2022-01-20\",\"2022-01-21\",\"2022-01-24\",\"2022-01-25\",\"2022-01-26\",\"2022-01-27\",\"2022-01-28\",\"2022-01-31\",\"2022-02-01\",\"2022-02-02\",\"2022-02-03\",\"2022-02-04\",\"2022-02-07\",\"2022-02-08\",\"2022-02-09\",\"2022-02-10\",\"2022-02-11\",\"2022-02-14\",\"2022-02-15\",\"2022-02-16\",\"2022-02-17\",\"2022-02-18\",\"2022-02-22\",\"2022-02-23\",\"2022-02-24\",\"2022-02-25\",\"2022-02-28\",\"2022-03-01\",\"2022-03-02\",\"2022-03-03\",\"2022-03-04\",\"2022-03-07\",\"2022-03-08\",\"2022-03-09\",\"2022-03-10\",\"2022-03-11\",\"2022-03-14\",\"2022-03-15\",\"2022-03-16\",\"2022-03-17\",\"2022-03-18\",\"2022-03-21\",\"2022-03-22\",\"2022-03-23\",\"2022-03-24\",\"2022-03-25\",\"2022-03-28\",\"2022-03-29\",\"2022-03-30\",\"2022-03-31\",\"2022-04-01\",\"2022-04-04\",\"2022-04-05\",\"2022-04-06\",\"2022-04-07\",\"2022-04-08\",\"2022-04-11\",\"2022-04-12\",\"2022-04-13\",\"2022-04-14\",\"2022-04-18\",\"2022-04-19\",\"2022-04-20\",\"2022-04-21\",\"2022-04-22\",\"2022-04-25\",\"2022-04-26\",\"2022-04-27\",\"2022-04-28\",\"2022-04-29\",\"2022-05-02\",\"2022-05-03\",\"2022-05-04\",\"2022-05-05\",\"2022-05-06\",\"2022-05-09\",\"2022-05-10\",\"2022-05-11\",\"2022-05-12\",\"2022-05-13\",\"2022-05-16\",\"2022-05-17\",\"2022-05-18\",\"2022-05-19\",\"2022-05-20\",\"2022-05-23\",\"2022-05-24\",\"2022-05-25\",\"2022-05-26\",\"2022-05-27\",\"2022-05-31\",\"2022-06-01\",\"2022-06-02\",\"2022-06-03\",\"2022-06-06\",\"2022-06-07\",\"2022-06-08\",\"2022-06-09\",\"2022-06-10\",\"2022-06-13\",\"2022-06-14\",\"2022-06-15\",\"2022-06-16\",\"2022-06-17\",\"2022-06-21\",\"2022-06-22\",\"2022-06-23\",\"2022-06-24\",\"2022-06-27\",\"2022-06-28\",\"2022-06-29\",\"2022-06-30\",\"2022-07-01\",\"2022-07-05\",\"2022-07-06\",\"2022-07-07\",\"2022-07-08\",\"2022-07-11\",\"2022-07-12\",\"2022-07-13\",\"2022-07-14\",\"2022-07-15\",\"2022-07-18\",\"2022-07-19\",\"2022-07-20\",\"2022-07-21\",\"2022-07-22\",\"2022-07-25\",\"2022-07-26\",\"2022-07-27\",\"2022-07-28\",\"2022-07-29\",\"2022-08-01\",\"2022-08-02\",\"2022-08-03\",\"2022-08-04\",\"2022-08-05\",\"2022-08-08\",\"2022-08-09\",\"2022-08-10\",\"2022-08-11\",\"2022-08-12\",\"2022-08-15\",\"2022-08-16\",\"2022-08-17\",\"2022-08-18\",\"2022-08-19\",\"2022-08-22\",\"2022-08-23\",\"2022-08-24\",\"2022-08-25\",\"2022-08-26\",\"2022-08-29\",\"2022-08-30\",\"2022-08-31\",\"2022-09-01\",\"2022-09-02\",\"2022-09-06\",\"2022-09-07\",\"2022-09-08\",\"2022-09-09\",\"2022-09-12\",\"2022-09-13\",\"2022-09-14\",\"2022-09-15\",\"2022-09-16\",\"2022-09-19\",\"2022-09-20\",\"2022-09-21\",\"2022-09-22\",\"2022-09-23\",\"2022-09-26\",\"2022-09-27\",\"2022-09-28\",\"2022-09-29\",\"2022-09-30\",\"2022-10-03\",\"2022-10-04\",\"2022-10-05\",\"2022-10-06\",\"2022-10-07\",\"2022-10-10\",\"2022-10-11\",\"2022-10-12\",\"2022-10-13\",\"2022-10-14\",\"2022-10-17\",\"2022-10-18\",\"2022-10-19\",\"2022-10-20\",\"2022-10-21\",\"2022-10-24\",\"2022-10-25\",\"2022-10-26\",\"2022-10-27\",\"2022-10-28\",\"2022-10-31\",\"2022-11-01\",\"2022-11-02\",\"2022-11-03\",\"2022-11-04\",\"2022-11-07\",\"2022-11-08\",\"2022-11-09\",\"2022-11-10\",\"2022-11-11\",\"2022-11-14\",\"2022-11-15\",\"2022-11-16\",\"2022-11-17\",\"2022-11-18\",\"2022-11-21\",\"2022-11-22\",\"2022-11-23\",\"2022-11-25\",\"2022-11-28\",\"2022-11-29\",\"2022-11-30\",\"2022-12-01\",\"2022-12-02\",\"2022-12-05\",\"2022-12-06\",\"2022-12-07\",\"2022-12-08\",\"2022-12-09\",\"2022-12-12\",\"2022-12-13\",\"2022-12-14\",\"2022-12-15\",\"2022-12-16\",\"2022-12-19\",\"2022-12-20\",\"2022-12-21\",\"2022-12-22\",\"2022-12-23\",\"2022-12-27\",\"2022-12-28\",\"2022-12-29\",\"2022-12-30\",\"2023-01-03\",\"2023-01-04\",\"2023-01-05\",\"2023-01-06\",\"2023-01-09\",\"2023-01-10\",\"2023-01-11\",\"2023-01-12\",\"2023-01-13\",\"2023-01-17\",\"2023-01-18\",\"2023-01-19\",\"2023-01-20\",\"2023-01-23\",\"2023-01-24\",\"2023-01-25\",\"2023-01-26\",\"2023-01-27\",\"2023-01-30\",\"2023-01-31\",\"2023-02-01\",\"2023-02-02\",\"2023-02-03\",\"2023-02-06\",\"2023-02-07\",\"2023-02-08\",\"2023-02-09\",\"2023-02-10\",\"2023-02-13\",\"2023-02-14\",\"2023-02-15\",\"2023-02-16\",\"2023-02-17\",\"2023-02-21\",\"2023-02-22\",\"2023-02-23\",\"2023-02-24\",\"2023-02-27\",\"2023-02-28\",\"2023-03-01\",\"2023-03-02\",\"2023-03-03\",\"2023-03-06\",\"2023-03-07\",\"2023-03-08\",\"2023-03-09\",\"2023-03-10\",\"2023-03-13\",\"2023-03-14\",\"2023-03-15\",\"2023-03-16\",\"2023-03-17\",\"2023-03-20\",\"2023-03-21\",\"2023-03-22\",\"2023-03-23\",\"2023-03-24\",\"2023-03-27\",\"2023-03-28\",\"2023-03-29\",\"2023-03-30\",\"2023-03-31\",\"2023-04-03\",\"2023-04-04\",\"2023-04-05\",\"2023-04-06\",\"2023-04-10\",\"2023-04-11\",\"2023-04-12\",\"2023-04-13\",\"2023-04-14\",\"2023-04-17\",\"2023-04-18\",\"2023-04-19\",\"2023-04-20\",\"2023-04-21\",\"2023-04-24\",\"2023-04-25\"],\"xaxis\":\"x\",\"y\":[124.95964813232422,124.65979766845703,125.30712890625,124.4317855834961,125.97969055175781,126.32046508789062,126.83056640625,127.31219482421875,126.3647689819336,127.13739776611328,129.77088928222656,129.66238403320312,130.1275634765625,131.4441375732422,130.4001922607422,131.8126983642578,133.55740356445312,133.53965759277344,133.49868774414062,133.0542449951172,134.2812042236328,135.98716735839844,136.80931091308594,137.28585815429688,139.51531982421875,141.59239196777344,144.04644775390625,143.31166076660156,144.5603790283203,144.33050537109375,144.96949768066406,148.559814453125,148.32093811035156,146.38172912597656,142.75042724609375,145.1653289794922,145.29425048828125,146.37582397460938,148.64434814453125,148.8463897705078,146.96861267089844,144.94686889648438,145.15451049804688,145.5410919189453,145.4149627685547,147.1957244873047,147.04623413085938,146.95814514160156,146.21719360351562,145.81854248046875,145.494873046875,145.63656616210938,148.4451446533203,149.04737854003906,150.76559448242188,150.29458618164062,146.37660217285156,146.30970764160156,147.644775390625,149.18930053710938,149.6909637451172,148.49501037597656,147.53604125976562,148.23736572265625,152.34800720214844,151.86788940429688,152.2305145263672,153.50299072265625,153.7760772705078,156.1585693359375,155.0124969482422,153.6859893798828,149.18556213378906,148.8155059814453,148.01441955566406,148.55860900878906,149.0147247314453,146.4065704345703,143.4029998779297,143.3146209716797,145.41879272460938,146.75503540039062,147.11463928222656,145.73377990722656,142.23779296875,142.43214416503906,141.42312622070312,142.31243896484375,139.93467712402344,140.92901611328125,142.16702270507812,143.05731201171875,143.1847686767578,142.83343505859375,141.6101837158203,140.78512573242188,143.20913696289062,144.64219665527344,146.31863403320312,148.5978546142578,149.05125427246094,149.21694946289062,148.4744415283203,148.15870666503906,148.8988800048828,148.5889129638672,151.93992614746094,150.06063842773438,148.7012939453125,149.8694305419922,150.8978271484375,150.8305206298828,151.11068725585938,150.36671447753906,150.49371337890625,148.00999450683594,147.50546264648438,149.64016723632812,149.80865478515625,150.8446807861328,153.2076873779297,157.1288299560547,160.03477478027344,160.6478729248047,160.9869842529297,161.42295837402344,156.6295166015625,159.27845764160156,164.5762481689453,164.32540893554688,163.65785217285156,161.7810821533203,164.35928344726562,170.193115234375,174.12576293945312,174.01490783691406,177.97010803222656,175.46475219726562,173.5623321533203,178.45779418945312,172.30494689941406,170.48501586914062,169.72799682617188,171.8651580810547,175.01370239257812,175.5472869873047,178.98123168945312,178.48089599609375,178.4279327392578,177.8208770751953,176.92910766601562,180.86338806152344,179.28201293945312,174.6249542236328,171.9092254638672,171.5800323486328,171.7349395751953,174.3214874267578,175.05580139160156,171.9054718017578,172.48968505859375,169.70506286621094,165.858154296875,164.3513641357422,162.10292053222656,161.3216094970703,159.71536254882812,159.427490234375,159.1186981201172,168.58865356445312,173.7021942138672,173.61431884765625,175.07456970214844,172.4608917236328,171.576171875,171.3398895263672,173.9193572998047,175.74249267578125,171.97996520996094,168.51806640625,168.43824768066406,171.88975524902344,172.20960998535156,168.8450469970703,167.13088989257812,164.1378631591797,159.77752685546875,162.10992431640625,164.4200439453125,164.74270629882812,163.25987243652344,165.83944702148438,165.9470672607422,162.90780639648438,159.30455017089844,157.01852416992188,161.9734649658203,158.7268524169922,154.6273651123047,151.09686279296875,154.02684020996094,159.0059051513672,160.2891082763672,163.49131774902344,164.87930297851562,167.7743377685547,169.69027709960938,173.01052856445312,174.1395721435547,174.79930114746094,177.98524475097656,177.22848510742188,174.2261505126953,173.93199157714844,177.41224670410156,174.8893585205078,171.576904296875,171.8536834716797,169.7305450439453,165.61911010742188,167.1549072265625,169.79615783691406,165.3226318359375,164.78512573242188,166.95361328125,166.69017028808594,166.21127319335938,161.9347686767578,162.2413330078125,157.013916015625,155.84393310546875,162.8605499267578,157.93426513671875,157.60342407226562,159.3870391845703,164.53941345214844,157.5163116455078,156.59864807128906,152.49813842773438,153.19065856933594,147.2486572265625,142.42083740234375,146.8206329345703,145.6602020263672,148.9489288330078,142.52821350097656,137.68516540527344,137.84677124023438,141.885986328125,141.0465545654297,141.05079650878906,143.85877990722656,148.6648712158203,148.90673828125,148.5348358154297,150.7196044921875,145.44760131835938,145.2963104248047,148.1824493408203,147.4863739013672,143.33335876464844,137.88156127929688,132.4981689453125,132.7095489501953,135.4552001953125,131.98638916015625,132.69583129882812,135.89584350585938,135.6016845703125,138.18504333496094,141.3254852294922,141.4405059814453,137.86358642578125,138.50901794433594,136.5294189453125,138.14381408691406,141.373779296875,142.73109436035156,146.12396240234375,146.98977661132812,144.81866455078125,145.44821166992188,145.04908752441406,147.6024932861328,149.9209442138672,147.20347595214844,150.41661071777344,152.6837921142578,154.58914184570312,154.1880340576172,152.6371307373047,151.3438720703125,155.74754333496094,157.07801818847656,161.57583618164062,161.6133575439453,159.5489501953125,165.20814514160156,165.4238739013672,164.65992736816406,164.79232788085938,164.30079650878906,168.39532470703125,168.25460815429688,171.15042114257812,172.7506561279297,172.3199462890625,173.96072387695312,173.68630981445312,171.1703643798828,167.48045349121094,166.75912475585938,167.126953125,169.38345336914062,163.99620056152344,161.09429931640625,158.95059204101562,156.65963745117188,157.68505859375,155.83387756347656,154.47006225585938,155.75975036621094,154.41375732421875,156.84645080566406,162.64283752441406,154.45587158203125,154.66268920898438,152.60374450683594,149.60203552246094,154.13018798828125,156.4110565185547,153.83836364746094,152.80941772460938,150.4280548095703,150.16766357421875,151.44973754882812,149.79653930664062,143.2268524169922,138.69361877441406,141.72303771972656,145.57839965820312,146.6983184814453,146.17977905273438,141.1014862060547,140.11045837402344,138.830078125,137.98419189453125,142.6703338623047,139.40904235839844,142.04579162597656,143.9114990234375,143.4537353515625,143.6051483154297,146.54881286621094,148.95208740234375,151.7655029296875,149.56967163085938,144.80091857910156,154.04110717773438,153.35140991210938,150.1043243408203,145.93594360351562,138.70587158203125,137.91464233398438,138.70042419433594,139.58238220214844,136.65542602539062,145.58860778808594,149.63258361816406,148.1751251220703,150.1796112060547,148.42819213867188,149.61834716796875,150.85775756835938,147.5678253173828,149.6954803466797,150.81773376464844,147.9940643310547,144.5707244873047,141.27883911132812,146.86187744140625,148.33969116210938,147.85809326171875,147.24656677246094,143.17759704589844,140.80133056640625,142.11880493164062,141.9918670654297,144.38458251953125,145.72027587890625,143.5859375,137.45562744140625,134.53550720214844,132.44070434570312,132.40757751464844,135.6704559326172,133.66473388671875,132.8243865966797,131.00489807128906,126.97164916992188,129.33358764648438,130.18402099609375,126.60389709472656,127.15776062011719,125.7792739868164,128.9051055908203,130.47544860839844,130.8258056640625,133.2860107421875,133.17213439941406,134.1636199951172,135.50302124023438,134.88795471191406,135.04690551757812,137.2577362060547,140.42721557617188,142.29693603515625,141.9449920654297,143.52197265625,145.389404296875,142.9093475341797,143.78990173339844,145.08551025390625,149.7684326171875,154.0909881591797,151.83433532714844,154.06570434570312,151.93370056152344,149.98492431640625,150.70318603515625,153.000732421875,153.11338806152344,154.93008422851562,153.83639526367188,152.25628662109375,148.6266326904297,148.2786407470703,149.11317443847656,146.77490234375,147.8439483642578,147.5930938720703,145.42381286621094,145.91986083984375,150.3089599609375,153.41845703125,151.79501342773438,152.62669372558594,150.56149291992188,147.9691162109375,149.91419982910156,152.00210571289062,152.77099609375,155.51612854003906,154.98260498046875,156.75570678710938,158.91673278808594,157.46823120117188,158.46975708007812,159.82940673828125,157.9499969482422,157.36074829101562,160.17010498046875,161.85096740722656,164.32444763183594,165.82772827148438,165.22055053710938,163.53260803222656,164.11927795410156,161.82301330566406,160.3552703857422,159.92250061035156,164.5907440185547,165.0840301513672,164.8056182861328,166.19085693359375,166.992431640625,166.33554077148438,164.77932739257812,164.88499450683594],\"yaxis\":\"y\",\"type\":\"scatter\"}],                        {\"template\":{\"data\":{\"histogram2dcontour\":[{\"type\":\"histogram2dcontour\",\"colorbar\":{\"outlinewidth\":0,\"ticks\":\"\"},\"colorscale\":[[0.0,\"#0d0887\"],[0.1111111111111111,\"#46039f\"],[0.2222222222222222,\"#7201a8\"],[0.3333333333333333,\"#9c179e\"],[0.4444444444444444,\"#bd3786\"],[0.5555555555555556,\"#d8576b\"],[0.6666666666666666,\"#ed7953\"],[0.7777777777777778,\"#fb9f3a\"],[0.8888888888888888,\"#fdca26\"],[1.0,\"#f0f921\"]]}],\"choropleth\":[{\"type\":\"choropleth\",\"colorbar\":{\"outlinewidth\":0,\"ticks\":\"\"}}],\"histogram2d\":[{\"type\":\"histogram2d\",\"colorbar\":{\"outlinewidth\":0,\"ticks\":\"\"},\"colorscale\":[[0.0,\"#0d0887\"],[0.1111111111111111,\"#46039f\"],[0.2222222222222222,\"#7201a8\"],[0.3333333333333333,\"#9c179e\"],[0.4444444444444444,\"#bd3786\"],[0.5555555555555556,\"#d8576b\"],[0.6666666666666666,\"#ed7953\"],[0.7777777777777778,\"#fb9f3a\"],[0.8888888888888888,\"#fdca26\"],[1.0,\"#f0f921\"]]}],\"heatmap\":[{\"type\":\"heatmap\",\"colorbar\":{\"outlinewidth\":0,\"ticks\":\"\"},\"colorscale\":[[0.0,\"#0d0887\"],[0.1111111111111111,\"#46039f\"],[0.2222222222222222,\"#7201a8\"],[0.3333333333333333,\"#9c179e\"],[0.4444444444444444,\"#bd3786\"],[0.5555555555555556,\"#d8576b\"],[0.6666666666666666,\"#ed7953\"],[0.7777777777777778,\"#fb9f3a\"],[0.8888888888888888,\"#fdca26\"],[1.0,\"#f0f921\"]]}],\"heatmapgl\":[{\"type\":\"heatmapgl\",\"colorbar\":{\"outlinewidth\":0,\"ticks\":\"\"},\"colorscale\":[[0.0,\"#0d0887\"],[0.1111111111111111,\"#46039f\"],[0.2222222222222222,\"#7201a8\"],[0.3333333333333333,\"#9c179e\"],[0.4444444444444444,\"#bd3786\"],[0.5555555555555556,\"#d8576b\"],[0.6666666666666666,\"#ed7953\"],[0.7777777777777778,\"#fb9f3a\"],[0.8888888888888888,\"#fdca26\"],[1.0,\"#f0f921\"]]}],\"contourcarpet\":[{\"type\":\"contourcarpet\",\"colorbar\":{\"outlinewidth\":0,\"ticks\":\"\"}}],\"contour\":[{\"type\":\"contour\",\"colorbar\":{\"outlinewidth\":0,\"ticks\":\"\"},\"colorscale\":[[0.0,\"#0d0887\"],[0.1111111111111111,\"#46039f\"],[0.2222222222222222,\"#7201a8\"],[0.3333333333333333,\"#9c179e\"],[0.4444444444444444,\"#bd3786\"],[0.5555555555555556,\"#d8576b\"],[0.6666666666666666,\"#ed7953\"],[0.7777777777777778,\"#fb9f3a\"],[0.8888888888888888,\"#fdca26\"],[1.0,\"#f0f921\"]]}],\"surface\":[{\"type\":\"surface\",\"colorbar\":{\"outlinewidth\":0,\"ticks\":\"\"},\"colorscale\":[[0.0,\"#0d0887\"],[0.1111111111111111,\"#46039f\"],[0.2222222222222222,\"#7201a8\"],[0.3333333333333333,\"#9c179e\"],[0.4444444444444444,\"#bd3786\"],[0.5555555555555556,\"#d8576b\"],[0.6666666666666666,\"#ed7953\"],[0.7777777777777778,\"#fb9f3a\"],[0.8888888888888888,\"#fdca26\"],[1.0,\"#f0f921\"]]}],\"mesh3d\":[{\"type\":\"mesh3d\",\"colorbar\":{\"outlinewidth\":0,\"ticks\":\"\"}}],\"scatter\":[{\"fillpattern\":{\"fillmode\":\"overlay\",\"size\":10,\"solidity\":0.2},\"type\":\"scatter\"}],\"parcoords\":[{\"type\":\"parcoords\",\"line\":{\"colorbar\":{\"outlinewidth\":0,\"ticks\":\"\"}}}],\"scatterpolargl\":[{\"type\":\"scatterpolargl\",\"marker\":{\"colorbar\":{\"outlinewidth\":0,\"ticks\":\"\"}}}],\"bar\":[{\"error_x\":{\"color\":\"#2a3f5f\"},\"error_y\":{\"color\":\"#2a3f5f\"},\"marker\":{\"line\":{\"color\":\"#E5ECF6\",\"width\":0.5},\"pattern\":{\"fillmode\":\"overlay\",\"size\":10,\"solidity\":0.2}},\"type\":\"bar\"}],\"scattergeo\":[{\"type\":\"scattergeo\",\"marker\":{\"colorbar\":{\"outlinewidth\":0,\"ticks\":\"\"}}}],\"scatterpolar\":[{\"type\":\"scatterpolar\",\"marker\":{\"colorbar\":{\"outlinewidth\":0,\"ticks\":\"\"}}}],\"histogram\":[{\"marker\":{\"pattern\":{\"fillmode\":\"overlay\",\"size\":10,\"solidity\":0.2}},\"type\":\"histogram\"}],\"scattergl\":[{\"type\":\"scattergl\",\"marker\":{\"colorbar\":{\"outlinewidth\":0,\"ticks\":\"\"}}}],\"scatter3d\":[{\"type\":\"scatter3d\",\"line\":{\"colorbar\":{\"outlinewidth\":0,\"ticks\":\"\"}},\"marker\":{\"colorbar\":{\"outlinewidth\":0,\"ticks\":\"\"}}}],\"scattermapbox\":[{\"type\":\"scattermapbox\",\"marker\":{\"colorbar\":{\"outlinewidth\":0,\"ticks\":\"\"}}}],\"scatterternary\":[{\"type\":\"scatterternary\",\"marker\":{\"colorbar\":{\"outlinewidth\":0,\"ticks\":\"\"}}}],\"scattercarpet\":[{\"type\":\"scattercarpet\",\"marker\":{\"colorbar\":{\"outlinewidth\":0,\"ticks\":\"\"}}}],\"carpet\":[{\"aaxis\":{\"endlinecolor\":\"#2a3f5f\",\"gridcolor\":\"white\",\"linecolor\":\"white\",\"minorgridcolor\":\"white\",\"startlinecolor\":\"#2a3f5f\"},\"baxis\":{\"endlinecolor\":\"#2a3f5f\",\"gridcolor\":\"white\",\"linecolor\":\"white\",\"minorgridcolor\":\"white\",\"startlinecolor\":\"#2a3f5f\"},\"type\":\"carpet\"}],\"table\":[{\"cells\":{\"fill\":{\"color\":\"#EBF0F8\"},\"line\":{\"color\":\"white\"}},\"header\":{\"fill\":{\"color\":\"#C8D4E3\"},\"line\":{\"color\":\"white\"}},\"type\":\"table\"}],\"barpolar\":[{\"marker\":{\"line\":{\"color\":\"#E5ECF6\",\"width\":0.5},\"pattern\":{\"fillmode\":\"overlay\",\"size\":10,\"solidity\":0.2}},\"type\":\"barpolar\"}],\"pie\":[{\"automargin\":true,\"type\":\"pie\"}]},\"layout\":{\"autotypenumbers\":\"strict\",\"colorway\":[\"#636efa\",\"#EF553B\",\"#00cc96\",\"#ab63fa\",\"#FFA15A\",\"#19d3f3\",\"#FF6692\",\"#B6E880\",\"#FF97FF\",\"#FECB52\"],\"font\":{\"color\":\"#2a3f5f\"},\"hovermode\":\"closest\",\"hoverlabel\":{\"align\":\"left\"},\"paper_bgcolor\":\"white\",\"plot_bgcolor\":\"#E5ECF6\",\"polar\":{\"bgcolor\":\"#E5ECF6\",\"angularaxis\":{\"gridcolor\":\"white\",\"linecolor\":\"white\",\"ticks\":\"\"},\"radialaxis\":{\"gridcolor\":\"white\",\"linecolor\":\"white\",\"ticks\":\"\"}},\"ternary\":{\"bgcolor\":\"#E5ECF6\",\"aaxis\":{\"gridcolor\":\"white\",\"linecolor\":\"white\",\"ticks\":\"\"},\"baxis\":{\"gridcolor\":\"white\",\"linecolor\":\"white\",\"ticks\":\"\"},\"caxis\":{\"gridcolor\":\"white\",\"linecolor\":\"white\",\"ticks\":\"\"}},\"coloraxis\":{\"colorbar\":{\"outlinewidth\":0,\"ticks\":\"\"}},\"colorscale\":{\"sequential\":[[0.0,\"#0d0887\"],[0.1111111111111111,\"#46039f\"],[0.2222222222222222,\"#7201a8\"],[0.3333333333333333,\"#9c179e\"],[0.4444444444444444,\"#bd3786\"],[0.5555555555555556,\"#d8576b\"],[0.6666666666666666,\"#ed7953\"],[0.7777777777777778,\"#fb9f3a\"],[0.8888888888888888,\"#fdca26\"],[1.0,\"#f0f921\"]],\"sequentialminus\":[[0.0,\"#0d0887\"],[0.1111111111111111,\"#46039f\"],[0.2222222222222222,\"#7201a8\"],[0.3333333333333333,\"#9c179e\"],[0.4444444444444444,\"#bd3786\"],[0.5555555555555556,\"#d8576b\"],[0.6666666666666666,\"#ed7953\"],[0.7777777777777778,\"#fb9f3a\"],[0.8888888888888888,\"#fdca26\"],[1.0,\"#f0f921\"]],\"diverging\":[[0,\"#8e0152\"],[0.1,\"#c51b7d\"],[0.2,\"#de77ae\"],[0.3,\"#f1b6da\"],[0.4,\"#fde0ef\"],[0.5,\"#f7f7f7\"],[0.6,\"#e6f5d0\"],[0.7,\"#b8e186\"],[0.8,\"#7fbc41\"],[0.9,\"#4d9221\"],[1,\"#276419\"]]},\"xaxis\":{\"gridcolor\":\"white\",\"linecolor\":\"white\",\"ticks\":\"\",\"title\":{\"standoff\":15},\"zerolinecolor\":\"white\",\"automargin\":true,\"zerolinewidth\":2},\"yaxis\":{\"gridcolor\":\"white\",\"linecolor\":\"white\",\"ticks\":\"\",\"title\":{\"standoff\":15},\"zerolinecolor\":\"white\",\"automargin\":true,\"zerolinewidth\":2},\"scene\":{\"xaxis\":{\"backgroundcolor\":\"#E5ECF6\",\"gridcolor\":\"white\",\"linecolor\":\"white\",\"showbackground\":true,\"ticks\":\"\",\"zerolinecolor\":\"white\",\"gridwidth\":2},\"yaxis\":{\"backgroundcolor\":\"#E5ECF6\",\"gridcolor\":\"white\",\"linecolor\":\"white\",\"showbackground\":true,\"ticks\":\"\",\"zerolinecolor\":\"white\",\"gridwidth\":2},\"zaxis\":{\"backgroundcolor\":\"#E5ECF6\",\"gridcolor\":\"white\",\"linecolor\":\"white\",\"showbackground\":true,\"ticks\":\"\",\"zerolinecolor\":\"white\",\"gridwidth\":2}},\"shapedefaults\":{\"line\":{\"color\":\"#2a3f5f\"}},\"annotationdefaults\":{\"arrowcolor\":\"#2a3f5f\",\"arrowhead\":0,\"arrowwidth\":1},\"geo\":{\"bgcolor\":\"white\",\"landcolor\":\"#E5ECF6\",\"subunitcolor\":\"white\",\"showland\":true,\"showlakes\":true,\"lakecolor\":\"white\"},\"title\":{\"x\":0.05},\"mapbox\":{\"style\":\"light\"}}},\"xaxis\":{\"anchor\":\"y\",\"domain\":[0.0,1.0],\"title\":{\"text\":\"x\"},\"rangeslider\":{\"visible\":true}},\"yaxis\":{\"anchor\":\"x\",\"domain\":[0.0,1.0],\"title\":{\"text\":\"y\"}},\"legend\":{\"tracegroupgap\":0},\"title\":{\"text\":\"Time Series with Rangeslider\"}},                        {\"responsive\": true}                    ).then(function(){\n",
              "                            \n",
              "var gd = document.getElementById('7f790f5e-5bd7-46a4-828f-5285f2f7d6fe');\n",
              "var x = new MutationObserver(function (mutations, observer) {{\n",
              "        var display = window.getComputedStyle(gd).display;\n",
              "        if (!display || display === 'none') {{\n",
              "            console.log([gd, 'removed!']);\n",
              "            Plotly.purge(gd);\n",
              "            observer.disconnect();\n",
              "        }}\n",
              "}});\n",
              "\n",
              "// Listen for the removal of the full notebook cells\n",
              "var notebookContainer = gd.closest('#notebook-container');\n",
              "if (notebookContainer) {{\n",
              "    x.observe(notebookContainer, {childList: true});\n",
              "}}\n",
              "\n",
              "// Listen for the clearing of the current output cell\n",
              "var outputEl = gd.closest('.output');\n",
              "if (outputEl) {{\n",
              "    x.observe(outputEl, {childList: true});\n",
              "}}\n",
              "\n",
              "                        })                };                            </script>        </div>\n",
              "</body>\n",
              "</html>"
            ]
          },
          "metadata": {}
        }
      ]
    },
    {
      "cell_type": "code",
      "source": [
        "import plotly.express as px\n",
        "import plotly.graph_objects as go\n",
        "\n",
        "\n",
        "df = pd.read_csv('dji_stocks_hourly_historical_data.csv')\n",
        "df"
      ],
      "metadata": {
        "colab": {
          "base_uri": "https://localhost:8080/",
          "height": 424
        },
        "id": "Qfj5oYpTPVJT",
        "outputId": "90415cfa-560b-42f0-a73c-7c2c435fc8f1"
      },
      "execution_count": null,
      "outputs": [
        {
          "output_type": "execute_result",
          "data": {
            "text/plain": [
              "       Unnamed: 0        Date        Open        High         Low       Close  \\\n",
              "0               0  2021-05-17  204.600006  205.350006  203.690002  205.110001   \n",
              "1               1  2021-05-18  204.990005  205.179993  202.809998  203.029999   \n",
              "2               2  2021-05-19  201.910004  202.699997  199.330002  202.600006   \n",
              "3               3  2021-05-20  201.089996  202.190002  200.500000  201.649994   \n",
              "4               4  2021-05-21  201.710007  203.759995  201.080002  201.860001   \n",
              "...           ...         ...         ...         ...         ...         ...   \n",
              "14665       14665  2023-04-19   56.400002   56.588001   55.840000   56.439999   \n",
              "14666       14666  2023-04-20   55.799999   56.165001   55.365002   55.700001   \n",
              "14667       14667  2023-04-21   55.360001   55.480000   54.705002   54.869999   \n",
              "14668       14668  2023-04-24   55.139999   55.400002   54.779999   55.389999   \n",
              "14669       14669  2023-04-25   54.459999   55.000000   52.500000   52.500000   \n",
              "\n",
              "        Adj Close   Volume Ticker  \n",
              "0      189.772263  1532700    MMM  \n",
              "1      187.847809  1771800    MMM  \n",
              "2      187.449966  2220200    MMM  \n",
              "3      187.943939  1412500    MMM  \n",
              "4      188.139648  1537200    MMM  \n",
              "...           ...      ...    ...  \n",
              "14665   56.439999  3828000    DOW  \n",
              "14666   55.700001  3334700    DOW  \n",
              "14667   54.869999  4179500    DOW  \n",
              "14668   55.389999  5036400    DOW  \n",
              "14669   52.500000  8365200    DOW  \n",
              "\n",
              "[14670 rows x 9 columns]"
            ],
            "text/html": [
              "\n",
              "  <div id=\"df-f859dc89-1627-4223-9d80-ddff16aa0767\">\n",
              "    <div class=\"colab-df-container\">\n",
              "      <div>\n",
              "<style scoped>\n",
              "    .dataframe tbody tr th:only-of-type {\n",
              "        vertical-align: middle;\n",
              "    }\n",
              "\n",
              "    .dataframe tbody tr th {\n",
              "        vertical-align: top;\n",
              "    }\n",
              "\n",
              "    .dataframe thead th {\n",
              "        text-align: right;\n",
              "    }\n",
              "</style>\n",
              "<table border=\"1\" class=\"dataframe\">\n",
              "  <thead>\n",
              "    <tr style=\"text-align: right;\">\n",
              "      <th></th>\n",
              "      <th>Unnamed: 0</th>\n",
              "      <th>Date</th>\n",
              "      <th>Open</th>\n",
              "      <th>High</th>\n",
              "      <th>Low</th>\n",
              "      <th>Close</th>\n",
              "      <th>Adj Close</th>\n",
              "      <th>Volume</th>\n",
              "      <th>Ticker</th>\n",
              "    </tr>\n",
              "  </thead>\n",
              "  <tbody>\n",
              "    <tr>\n",
              "      <th>0</th>\n",
              "      <td>0</td>\n",
              "      <td>2021-05-17</td>\n",
              "      <td>204.600006</td>\n",
              "      <td>205.350006</td>\n",
              "      <td>203.690002</td>\n",
              "      <td>205.110001</td>\n",
              "      <td>189.772263</td>\n",
              "      <td>1532700</td>\n",
              "      <td>MMM</td>\n",
              "    </tr>\n",
              "    <tr>\n",
              "      <th>1</th>\n",
              "      <td>1</td>\n",
              "      <td>2021-05-18</td>\n",
              "      <td>204.990005</td>\n",
              "      <td>205.179993</td>\n",
              "      <td>202.809998</td>\n",
              "      <td>203.029999</td>\n",
              "      <td>187.847809</td>\n",
              "      <td>1771800</td>\n",
              "      <td>MMM</td>\n",
              "    </tr>\n",
              "    <tr>\n",
              "      <th>2</th>\n",
              "      <td>2</td>\n",
              "      <td>2021-05-19</td>\n",
              "      <td>201.910004</td>\n",
              "      <td>202.699997</td>\n",
              "      <td>199.330002</td>\n",
              "      <td>202.600006</td>\n",
              "      <td>187.449966</td>\n",
              "      <td>2220200</td>\n",
              "      <td>MMM</td>\n",
              "    </tr>\n",
              "    <tr>\n",
              "      <th>3</th>\n",
              "      <td>3</td>\n",
              "      <td>2021-05-20</td>\n",
              "      <td>201.089996</td>\n",
              "      <td>202.190002</td>\n",
              "      <td>200.500000</td>\n",
              "      <td>201.649994</td>\n",
              "      <td>187.943939</td>\n",
              "      <td>1412500</td>\n",
              "      <td>MMM</td>\n",
              "    </tr>\n",
              "    <tr>\n",
              "      <th>4</th>\n",
              "      <td>4</td>\n",
              "      <td>2021-05-21</td>\n",
              "      <td>201.710007</td>\n",
              "      <td>203.759995</td>\n",
              "      <td>201.080002</td>\n",
              "      <td>201.860001</td>\n",
              "      <td>188.139648</td>\n",
              "      <td>1537200</td>\n",
              "      <td>MMM</td>\n",
              "    </tr>\n",
              "    <tr>\n",
              "      <th>...</th>\n",
              "      <td>...</td>\n",
              "      <td>...</td>\n",
              "      <td>...</td>\n",
              "      <td>...</td>\n",
              "      <td>...</td>\n",
              "      <td>...</td>\n",
              "      <td>...</td>\n",
              "      <td>...</td>\n",
              "      <td>...</td>\n",
              "    </tr>\n",
              "    <tr>\n",
              "      <th>14665</th>\n",
              "      <td>14665</td>\n",
              "      <td>2023-04-19</td>\n",
              "      <td>56.400002</td>\n",
              "      <td>56.588001</td>\n",
              "      <td>55.840000</td>\n",
              "      <td>56.439999</td>\n",
              "      <td>56.439999</td>\n",
              "      <td>3828000</td>\n",
              "      <td>DOW</td>\n",
              "    </tr>\n",
              "    <tr>\n",
              "      <th>14666</th>\n",
              "      <td>14666</td>\n",
              "      <td>2023-04-20</td>\n",
              "      <td>55.799999</td>\n",
              "      <td>56.165001</td>\n",
              "      <td>55.365002</td>\n",
              "      <td>55.700001</td>\n",
              "      <td>55.700001</td>\n",
              "      <td>3334700</td>\n",
              "      <td>DOW</td>\n",
              "    </tr>\n",
              "    <tr>\n",
              "      <th>14667</th>\n",
              "      <td>14667</td>\n",
              "      <td>2023-04-21</td>\n",
              "      <td>55.360001</td>\n",
              "      <td>55.480000</td>\n",
              "      <td>54.705002</td>\n",
              "      <td>54.869999</td>\n",
              "      <td>54.869999</td>\n",
              "      <td>4179500</td>\n",
              "      <td>DOW</td>\n",
              "    </tr>\n",
              "    <tr>\n",
              "      <th>14668</th>\n",
              "      <td>14668</td>\n",
              "      <td>2023-04-24</td>\n",
              "      <td>55.139999</td>\n",
              "      <td>55.400002</td>\n",
              "      <td>54.779999</td>\n",
              "      <td>55.389999</td>\n",
              "      <td>55.389999</td>\n",
              "      <td>5036400</td>\n",
              "      <td>DOW</td>\n",
              "    </tr>\n",
              "    <tr>\n",
              "      <th>14669</th>\n",
              "      <td>14669</td>\n",
              "      <td>2023-04-25</td>\n",
              "      <td>54.459999</td>\n",
              "      <td>55.000000</td>\n",
              "      <td>52.500000</td>\n",
              "      <td>52.500000</td>\n",
              "      <td>52.500000</td>\n",
              "      <td>8365200</td>\n",
              "      <td>DOW</td>\n",
              "    </tr>\n",
              "  </tbody>\n",
              "</table>\n",
              "<p>14670 rows × 9 columns</p>\n",
              "</div>\n",
              "      <button class=\"colab-df-convert\" onclick=\"convertToInteractive('df-f859dc89-1627-4223-9d80-ddff16aa0767')\"\n",
              "              title=\"Convert this dataframe to an interactive table.\"\n",
              "              style=\"display:none;\">\n",
              "        \n",
              "  <svg xmlns=\"http://www.w3.org/2000/svg\" height=\"24px\"viewBox=\"0 0 24 24\"\n",
              "       width=\"24px\">\n",
              "    <path d=\"M0 0h24v24H0V0z\" fill=\"none\"/>\n",
              "    <path d=\"M18.56 5.44l.94 2.06.94-2.06 2.06-.94-2.06-.94-.94-2.06-.94 2.06-2.06.94zm-11 1L8.5 8.5l.94-2.06 2.06-.94-2.06-.94L8.5 2.5l-.94 2.06-2.06.94zm10 10l.94 2.06.94-2.06 2.06-.94-2.06-.94-.94-2.06-.94 2.06-2.06.94z\"/><path d=\"M17.41 7.96l-1.37-1.37c-.4-.4-.92-.59-1.43-.59-.52 0-1.04.2-1.43.59L10.3 9.45l-7.72 7.72c-.78.78-.78 2.05 0 2.83L4 21.41c.39.39.9.59 1.41.59.51 0 1.02-.2 1.41-.59l7.78-7.78 2.81-2.81c.8-.78.8-2.07 0-2.86zM5.41 20L4 18.59l7.72-7.72 1.47 1.35L5.41 20z\"/>\n",
              "  </svg>\n",
              "      </button>\n",
              "      \n",
              "  <style>\n",
              "    .colab-df-container {\n",
              "      display:flex;\n",
              "      flex-wrap:wrap;\n",
              "      gap: 12px;\n",
              "    }\n",
              "\n",
              "    .colab-df-convert {\n",
              "      background-color: #E8F0FE;\n",
              "      border: none;\n",
              "      border-radius: 50%;\n",
              "      cursor: pointer;\n",
              "      display: none;\n",
              "      fill: #1967D2;\n",
              "      height: 32px;\n",
              "      padding: 0 0 0 0;\n",
              "      width: 32px;\n",
              "    }\n",
              "\n",
              "    .colab-df-convert:hover {\n",
              "      background-color: #E2EBFA;\n",
              "      box-shadow: 0px 1px 2px rgba(60, 64, 67, 0.3), 0px 1px 3px 1px rgba(60, 64, 67, 0.15);\n",
              "      fill: #174EA6;\n",
              "    }\n",
              "\n",
              "    [theme=dark] .colab-df-convert {\n",
              "      background-color: #3B4455;\n",
              "      fill: #D2E3FC;\n",
              "    }\n",
              "\n",
              "    [theme=dark] .colab-df-convert:hover {\n",
              "      background-color: #434B5C;\n",
              "      box-shadow: 0px 1px 3px 1px rgba(0, 0, 0, 0.15);\n",
              "      filter: drop-shadow(0px 1px 2px rgba(0, 0, 0, 0.3));\n",
              "      fill: #FFFFFF;\n",
              "    }\n",
              "  </style>\n",
              "\n",
              "      <script>\n",
              "        const buttonEl =\n",
              "          document.querySelector('#df-f859dc89-1627-4223-9d80-ddff16aa0767 button.colab-df-convert');\n",
              "        buttonEl.style.display =\n",
              "          google.colab.kernel.accessAllowed ? 'block' : 'none';\n",
              "\n",
              "        async function convertToInteractive(key) {\n",
              "          const element = document.querySelector('#df-f859dc89-1627-4223-9d80-ddff16aa0767');\n",
              "          const dataTable =\n",
              "            await google.colab.kernel.invokeFunction('convertToInteractive',\n",
              "                                                     [key], {});\n",
              "          if (!dataTable) return;\n",
              "\n",
              "          const docLinkHtml = 'Like what you see? Visit the ' +\n",
              "            '<a target=\"_blank\" href=https://colab.research.google.com/notebooks/data_table.ipynb>data table notebook</a>'\n",
              "            + ' to learn more about interactive tables.';\n",
              "          element.innerHTML = '';\n",
              "          dataTable['output_type'] = 'display_data';\n",
              "          await google.colab.output.renderOutput(dataTable, element);\n",
              "          const docLink = document.createElement('div');\n",
              "          docLink.innerHTML = docLinkHtml;\n",
              "          element.appendChild(docLink);\n",
              "        }\n",
              "      </script>\n",
              "    </div>\n",
              "  </div>\n",
              "  "
            ]
          },
          "metadata": {},
          "execution_count": 12
        }
      ]
    },
    {
      "cell_type": "code",
      "source": [
        "stock = 'CVX'\n",
        "\n",
        "df_stock = df[df['Ticker']==stock]\n",
        "\n",
        "\n",
        "fig = px.line(df_stock, x='Date', y='High', title='Time Series with Rangeslider')\n",
        "\n",
        "fig.update_xaxes(rangeslider_visible=True)\n",
        "fig.show()"
      ],
      "metadata": {
        "colab": {
          "base_uri": "https://localhost:8080/",
          "height": 542
        },
        "id": "F1K7BXC8PZtI",
        "outputId": "5791f4d3-82d8-4eb2-e9b9-1e0fec9c4edd"
      },
      "execution_count": null,
      "outputs": [
        {
          "output_type": "display_data",
          "data": {
            "text/html": [
              "<html>\n",
              "<head><meta charset=\"utf-8\" /></head>\n",
              "<body>\n",
              "    <div>            <script src=\"https://cdnjs.cloudflare.com/ajax/libs/mathjax/2.7.5/MathJax.js?config=TeX-AMS-MML_SVG\"></script><script type=\"text/javascript\">if (window.MathJax && window.MathJax.Hub && window.MathJax.Hub.Config) {window.MathJax.Hub.Config({SVG: {font: \"STIX-Web\"}});}</script>                <script type=\"text/javascript\">window.PlotlyConfig = {MathJaxConfig: 'local'};</script>\n",
              "        <script src=\"https://cdn.plot.ly/plotly-2.18.2.min.js\"></script>                <div id=\"1a7ae6ef-2dd7-491e-81ca-baf8a80de092\" class=\"plotly-graph-div\" style=\"height:525px; width:100%;\"></div>            <script type=\"text/javascript\">                                    window.PLOTLYENV=window.PLOTLYENV || {};                                    if (document.getElementById(\"1a7ae6ef-2dd7-491e-81ca-baf8a80de092\")) {                    Plotly.newPlot(                        \"1a7ae6ef-2dd7-491e-81ca-baf8a80de092\",                        [{\"hovertemplate\":\"Date=%{x}<br>High=%{y}<extra></extra>\",\"legendgroup\":\"\",\"line\":{\"color\":\"#636efa\",\"dash\":\"solid\"},\"marker\":{\"symbol\":\"circle\"},\"mode\":\"lines\",\"name\":\"\",\"orientation\":\"v\",\"showlegend\":false,\"x\":[\"2021-05-17\",\"2021-05-18\",\"2021-05-19\",\"2021-05-20\",\"2021-05-21\",\"2021-05-24\",\"2021-05-25\",\"2021-05-26\",\"2021-05-27\",\"2021-05-28\",\"2021-06-01\",\"2021-06-02\",\"2021-06-03\",\"2021-06-04\",\"2021-06-07\",\"2021-06-08\",\"2021-06-09\",\"2021-06-10\",\"2021-06-11\",\"2021-06-14\",\"2021-06-15\",\"2021-06-16\",\"2021-06-17\",\"2021-06-18\",\"2021-06-21\",\"2021-06-22\",\"2021-06-23\",\"2021-06-24\",\"2021-06-25\",\"2021-06-28\",\"2021-06-29\",\"2021-06-30\",\"2021-07-01\",\"2021-07-02\",\"2021-07-06\",\"2021-07-07\",\"2021-07-08\",\"2021-07-09\",\"2021-07-12\",\"2021-07-13\",\"2021-07-14\",\"2021-07-15\",\"2021-07-16\",\"2021-07-19\",\"2021-07-20\",\"2021-07-21\",\"2021-07-22\",\"2021-07-23\",\"2021-07-26\",\"2021-07-27\",\"2021-07-28\",\"2021-07-29\",\"2021-07-30\",\"2021-08-02\",\"2021-08-03\",\"2021-08-04\",\"2021-08-05\",\"2021-08-06\",\"2021-08-09\",\"2021-08-10\",\"2021-08-11\",\"2021-08-12\",\"2021-08-13\",\"2021-08-16\",\"2021-08-17\",\"2021-08-18\",\"2021-08-19\",\"2021-08-20\",\"2021-08-23\",\"2021-08-24\",\"2021-08-25\",\"2021-08-26\",\"2021-08-27\",\"2021-08-30\",\"2021-08-31\",\"2021-09-01\",\"2021-09-02\",\"2021-09-03\",\"2021-09-07\",\"2021-09-08\",\"2021-09-09\",\"2021-09-10\",\"2021-09-13\",\"2021-09-14\",\"2021-09-15\",\"2021-09-16\",\"2021-09-17\",\"2021-09-20\",\"2021-09-21\",\"2021-09-22\",\"2021-09-23\",\"2021-09-24\",\"2021-09-27\",\"2021-09-28\",\"2021-09-29\",\"2021-09-30\",\"2021-10-01\",\"2021-10-04\",\"2021-10-05\",\"2021-10-06\",\"2021-10-07\",\"2021-10-08\",\"2021-10-11\",\"2021-10-12\",\"2021-10-13\",\"2021-10-14\",\"2021-10-15\",\"2021-10-18\",\"2021-10-19\",\"2021-10-20\",\"2021-10-21\",\"2021-10-22\",\"2021-10-25\",\"2021-10-26\",\"2021-10-27\",\"2021-10-28\",\"2021-10-29\",\"2021-11-01\",\"2021-11-02\",\"2021-11-03\",\"2021-11-04\",\"2021-11-05\",\"2021-11-08\",\"2021-11-09\",\"2021-11-10\",\"2021-11-11\",\"2021-11-12\",\"2021-11-15\",\"2021-11-16\",\"2021-11-17\",\"2021-11-18\",\"2021-11-19\",\"2021-11-22\",\"2021-11-23\",\"2021-11-24\",\"2021-11-26\",\"2021-11-29\",\"2021-11-30\",\"2021-12-01\",\"2021-12-02\",\"2021-12-03\",\"2021-12-06\",\"2021-12-07\",\"2021-12-08\",\"2021-12-09\",\"2021-12-10\",\"2021-12-13\",\"2021-12-14\",\"2021-12-15\",\"2021-12-16\",\"2021-12-17\",\"2021-12-20\",\"2021-12-21\",\"2021-12-22\",\"2021-12-23\",\"2021-12-27\",\"2021-12-28\",\"2021-12-29\",\"2021-12-30\",\"2021-12-31\",\"2022-01-03\",\"2022-01-04\",\"2022-01-05\",\"2022-01-06\",\"2022-01-07\",\"2022-01-10\",\"2022-01-11\",\"2022-01-12\",\"2022-01-13\",\"2022-01-14\",\"2022-01-18\",\"2022-01-19\",\"2022-01-20\",\"2022-01-21\",\"2022-01-24\",\"2022-01-25\",\"2022-01-26\",\"2022-01-27\",\"2022-01-28\",\"2022-01-31\",\"2022-02-01\",\"2022-02-02\",\"2022-02-03\",\"2022-02-04\",\"2022-02-07\",\"2022-02-08\",\"2022-02-09\",\"2022-02-10\",\"2022-02-11\",\"2022-02-14\",\"2022-02-15\",\"2022-02-16\",\"2022-02-17\",\"2022-02-18\",\"2022-02-22\",\"2022-02-23\",\"2022-02-24\",\"2022-02-25\",\"2022-02-28\",\"2022-03-01\",\"2022-03-02\",\"2022-03-03\",\"2022-03-04\",\"2022-03-07\",\"2022-03-08\",\"2022-03-09\",\"2022-03-10\",\"2022-03-11\",\"2022-03-14\",\"2022-03-15\",\"2022-03-16\",\"2022-03-17\",\"2022-03-18\",\"2022-03-21\",\"2022-03-22\",\"2022-03-23\",\"2022-03-24\",\"2022-03-25\",\"2022-03-28\",\"2022-03-29\",\"2022-03-30\",\"2022-03-31\",\"2022-04-01\",\"2022-04-04\",\"2022-04-05\",\"2022-04-06\",\"2022-04-07\",\"2022-04-08\",\"2022-04-11\",\"2022-04-12\",\"2022-04-13\",\"2022-04-14\",\"2022-04-18\",\"2022-04-19\",\"2022-04-20\",\"2022-04-21\",\"2022-04-22\",\"2022-04-25\",\"2022-04-26\",\"2022-04-27\",\"2022-04-28\",\"2022-04-29\",\"2022-05-02\",\"2022-05-03\",\"2022-05-04\",\"2022-05-05\",\"2022-05-06\",\"2022-05-09\",\"2022-05-10\",\"2022-05-11\",\"2022-05-12\",\"2022-05-13\",\"2022-05-16\",\"2022-05-17\",\"2022-05-18\",\"2022-05-19\",\"2022-05-20\",\"2022-05-23\",\"2022-05-24\",\"2022-05-25\",\"2022-05-26\",\"2022-05-27\",\"2022-05-31\",\"2022-06-01\",\"2022-06-02\",\"2022-06-03\",\"2022-06-06\",\"2022-06-07\",\"2022-06-08\",\"2022-06-09\",\"2022-06-10\",\"2022-06-13\",\"2022-06-14\",\"2022-06-15\",\"2022-06-16\",\"2022-06-17\",\"2022-06-21\",\"2022-06-22\",\"2022-06-23\",\"2022-06-24\",\"2022-06-27\",\"2022-06-28\",\"2022-06-29\",\"2022-06-30\",\"2022-07-01\",\"2022-07-05\",\"2022-07-06\",\"2022-07-07\",\"2022-07-08\",\"2022-07-11\",\"2022-07-12\",\"2022-07-13\",\"2022-07-14\",\"2022-07-15\",\"2022-07-18\",\"2022-07-19\",\"2022-07-20\",\"2022-07-21\",\"2022-07-22\",\"2022-07-25\",\"2022-07-26\",\"2022-07-27\",\"2022-07-28\",\"2022-07-29\",\"2022-08-01\",\"2022-08-02\",\"2022-08-03\",\"2022-08-04\",\"2022-08-05\",\"2022-08-08\",\"2022-08-09\",\"2022-08-10\",\"2022-08-11\",\"2022-08-12\",\"2022-08-15\",\"2022-08-16\",\"2022-08-17\",\"2022-08-18\",\"2022-08-19\",\"2022-08-22\",\"2022-08-23\",\"2022-08-24\",\"2022-08-25\",\"2022-08-26\",\"2022-08-29\",\"2022-08-30\",\"2022-08-31\",\"2022-09-01\",\"2022-09-02\",\"2022-09-06\",\"2022-09-07\",\"2022-09-08\",\"2022-09-09\",\"2022-09-12\",\"2022-09-13\",\"2022-09-14\",\"2022-09-15\",\"2022-09-16\",\"2022-09-19\",\"2022-09-20\",\"2022-09-21\",\"2022-09-22\",\"2022-09-23\",\"2022-09-26\",\"2022-09-27\",\"2022-09-28\",\"2022-09-29\",\"2022-09-30\",\"2022-10-03\",\"2022-10-04\",\"2022-10-05\",\"2022-10-06\",\"2022-10-07\",\"2022-10-10\",\"2022-10-11\",\"2022-10-12\",\"2022-10-13\",\"2022-10-14\",\"2022-10-17\",\"2022-10-18\",\"2022-10-19\",\"2022-10-20\",\"2022-10-21\",\"2022-10-24\",\"2022-10-25\",\"2022-10-26\",\"2022-10-27\",\"2022-10-28\",\"2022-10-31\",\"2022-11-01\",\"2022-11-02\",\"2022-11-03\",\"2022-11-04\",\"2022-11-07\",\"2022-11-08\",\"2022-11-09\",\"2022-11-10\",\"2022-11-11\",\"2022-11-14\",\"2022-11-15\",\"2022-11-16\",\"2022-11-17\",\"2022-11-18\",\"2022-11-21\",\"2022-11-22\",\"2022-11-23\",\"2022-11-25\",\"2022-11-28\",\"2022-11-29\",\"2022-11-30\",\"2022-12-01\",\"2022-12-02\",\"2022-12-05\",\"2022-12-06\",\"2022-12-07\",\"2022-12-08\",\"2022-12-09\",\"2022-12-12\",\"2022-12-13\",\"2022-12-14\",\"2022-12-15\",\"2022-12-16\",\"2022-12-19\",\"2022-12-20\",\"2022-12-21\",\"2022-12-22\",\"2022-12-23\",\"2022-12-27\",\"2022-12-28\",\"2022-12-29\",\"2022-12-30\",\"2023-01-03\",\"2023-01-04\",\"2023-01-05\",\"2023-01-06\",\"2023-01-09\",\"2023-01-10\",\"2023-01-11\",\"2023-01-12\",\"2023-01-13\",\"2023-01-17\",\"2023-01-18\",\"2023-01-19\",\"2023-01-20\",\"2023-01-23\",\"2023-01-24\",\"2023-01-25\",\"2023-01-26\",\"2023-01-27\",\"2023-01-30\",\"2023-01-31\",\"2023-02-01\",\"2023-02-02\",\"2023-02-03\",\"2023-02-06\",\"2023-02-07\",\"2023-02-08\",\"2023-02-09\",\"2023-02-10\",\"2023-02-13\",\"2023-02-14\",\"2023-02-15\",\"2023-02-16\",\"2023-02-17\",\"2023-02-21\",\"2023-02-22\",\"2023-02-23\",\"2023-02-24\",\"2023-02-27\",\"2023-02-28\",\"2023-03-01\",\"2023-03-02\",\"2023-03-03\",\"2023-03-06\",\"2023-03-07\",\"2023-03-08\",\"2023-03-09\",\"2023-03-10\",\"2023-03-13\",\"2023-03-14\",\"2023-03-15\",\"2023-03-16\",\"2023-03-17\",\"2023-03-20\",\"2023-03-21\",\"2023-03-22\",\"2023-03-23\",\"2023-03-24\",\"2023-03-27\",\"2023-03-28\",\"2023-03-29\",\"2023-03-30\",\"2023-03-31\",\"2023-04-03\",\"2023-04-04\",\"2023-04-05\",\"2023-04-06\",\"2023-04-10\",\"2023-04-11\",\"2023-04-12\",\"2023-04-13\",\"2023-04-14\",\"2023-04-17\",\"2023-04-18\",\"2023-04-19\",\"2023-04-20\",\"2023-04-21\",\"2023-04-24\",\"2023-04-25\"],\"xaxis\":\"x\",\"y\":[110.87999725341795,109.05999755859376,104.29000091552734,104.06999969482422,105.1999969482422,105.83999633789062,105.62000274658205,104.91000366210938,104.91000366210938,104.12000274658205,107.43000030517578,108.55999755859376,108.08999633789062,108.66999816894533,108.6999969482422,108.9800033569336,109.52999877929688,110.25,108.97000122070312,108.95999908447266,110.4800033569336,110.51000213623048,109.9800033569336,106.2699966430664,106.44000244140624,106.95999908447266,108.12999725341795,107.77999877929688,108.05999755859376,107.0,104.97000122070312,104.87999725341795,107.0999984741211,106.4000015258789,105.97000122070312,104.9000015258789,103.08999633789062,104.2300033569336,105.0199966430664,104.58000183105467,105.31999969482422,102.25,101.69000244140624,96.9499969482422,98.04000091552734,100.47000122070312,99.41000366210938,99.12000274658205,101.26000213623048,100.72000122070312,101.80999755859376,102.87999725341795,104.0500030517578,103.9800033569336,102.91000366210938,101.9000015258789,102.43000030517578,102.58000183105467,101.37999725341795,102.31999969482422,102.97000122070312,103.25,102.54000091552734,101.1999969482422,101.68000030517578,99.41999816894533,95.30999755859376,94.87999725341795,97.0,98.61000061035156,98.72000122070312,98.7300033569336,99.45999908447266,99.30999755859376,98.41000366210938,97.06999969482422,98.38999938964844,98.43000030517578,97.9800033569336,98.47000122070312,97.62000274658205,97.6999969482422,98.70999908447266,98.73999786376952,98.52999877929688,98.58999633789062,98.37999725341795,95.25,95.88999938964844,98.77999877929688,100.2699966430664,100.97000122070312,103.77999877929688,104.88999938964844,104.23999786376952,103.4499969482422,104.54000091552734,105.86000061035156,107.7699966430664,105.3499984741211,106.3000030517578,108.43000030517578,109.62999725341795,107.58000183105467,108.33999633789062,109.16000366210938,110.02999877929688,110.41000366210938,111.6999969482422,113.16999816894533,112.80999755859376,112.87999725341795,114.3499984741211,114.5999984741211,113.58000183105467,113.2699966430664,115.29000091552734,115.08999633789062,114.19000244140624,113.2699966430664,114.26000213623048,115.0500030517578,115.98999786376952,116.12000274658205,116.20999908447266,114.66999816894533,114.30999755859376,116.9499969482422,118.08000183105467,116.52999877929688,115.37999725341795,113.1500015258789,115.19000244140624,116.83999633789062,118.0,114.83000183105467,117.16999816894533,115.86000061035156,116.05999755859376,115.6999969482422,117.0,117.4499969482422,118.66000366210938,119.26000213623048,118.5999984741211,119.1999969482422,117.8499984741211,116.91999816894533,116.31999969482422,118.19000244140624,116.45999908447266,113.70999908447266,116.06999969482422,116.68000030517578,117.91999816894533,118.81999969482422,119.33999633789062,118.6500015258789,118.69000244140624,118.08999633789062,119.69000244140624,121.9800033569336,123.83999633789062,124.31999969482422,125.54000091552734,125.69000244140624,128.0,128.42999267578125,128.10000610351562,129.1999969482422,130.0,130.14999389648438,130.86000061035156,128.39999389648438,127.7300033569336,132.74000549316406,134.7100067138672,137.0,132.05999755859375,131.86000061035156,135.74000549316406,135.8000030517578,135.35000610351562,137.0,139.42999267578125,138.42999267578125,138.33999633789062,138.7899932861328,139.44000244140625,138.0500030517578,134.83999633789062,136.16000366210938,134.5800018310547,133.91000366210938,137.0,136.0800018310547,138.22999572753906,140.5,144.0,149.9600067138672,155.75,157.1199951171875,159.9499969482422,162.10000610351562,174.0,169.77000427246094,174.75999450683594,172.97999572753906,168.35000610351562,160.19000244140625,160.5,160.99000549316406,161.72999572753906,165.5800018310547,165.25999450683594,167.35000610351562,167.39999389648438,169.69000244140625,166.6300048828125,164.47999572753906,166.35000610351562,166.16000366210938,165.9499969482422,165.4499969482422,167.72000122070312,167.00999450683594,167.6999969482422,171.10000610351562,168.77999877929688,172.67999267578125,172.0800018310547,172.94000244140625,174.5399932861328,173.69000244140625,173.5800018310547,172.44000244140625,165.47000122070312,158.36000061035156,160.3699951171875,157.9199981689453,163.0,162.44000244140625,160.0,163.42999267578125,167.88999938964844,169.5,170.97000122070312,167.75,164.19000244140625,167.4600067138672,164.85000610351562,168.7899932861328,174.97000122070312,175.64999389648438,174.1300048828125,169.63999938964844,171.0399932861328,172.9600067138672,173.5800018310547,175.99000549316406,177.92999267578125,178.35000610351562,180.9600067138672,178.1300048828125,176.50999450683594,178.25,178.0,180.66000366210935,182.3999938964844,180.63999938964844,178.57000732421875,172.0,172.2899932861328,167.85000610351562,160.5399932861328,155.47000122070312,156.02000427246094,150.8000030517578,149.22999572753906,147.08999633789062,148.82000732421875,152.19000244140625,152.11000061035156,147.9199981689453,146.9600067138672,144.5399932861328,143.25999450683594,145.3000030517578,145.4499969482422,142.85000610351562,139.6199951171875,140.72999572753906,136.16000366210938,138.9600067138672,142.13999938964844,145.00999450683594,147.25999450683594,145.47000122070312,146.3000030517578,148.61000061035156,150.67999267578125,150.1999969482422,151.47000122070312,164.66000366210938,161.86000061035156,161.47000122070312,159.9600067138672,155.44000244140625,155.00999450683594,154.97999572753906,157.8000030517578,156.47000122070312,161.16000366210938,159.91000366210938,157.7899932861328,157.9199981689453,159.33999633789062,159.66000366210938,159.74000549316406,157.74000549316406,162.33999633789062,163.35000610351562,164.89999389648438,166.1300048828125,166.8300018310547,162.55999755859375,161.41000366210938,156.8800048828125,159.1300048828125,159.99000549316406,155.82000732421875,156.3800048828125,160.64999389648438,164.52999877929688,162.66000366210938,163.57000732421875,161.6999969482422,161.13999938964844,156.9499969482422,156.85000610351562,158.77999877929688,158.27999877929688,150.17999267578125,145.0500030517578,143.77000427246094,146.44000244140625,145.41000366210938,145.13999938964844,152.33999633789062,157.8800048828125,159.72999572753906,161.94000244140625,163.92999267578125,161.47000122070312,159.92999267578125,158.80999755859375,165.99000549316406,165.4600067138672,164.91000366210938,163.30999755859375,169.2100067138672,171.82000732421875,173.83999633789062,174.6699981689453,175.0,178.47999572753906,181.3999938964844,182.8600006103516,183.83999633789065,184.5,182.8999938964844,182.19000244140625,185.3999938964844,186.3800048828125,186.25,183.80999755859372,182.3300018310547,187.1000061035156,189.67999267578125,188.44000244140625,187.82000732421875,184.22999572753903,183.41000366210935,181.6999969482422,186.55999755859372,185.1499938964844,185.3000030517578,181.47000122070312,181.8500061035156,183.33999633789065,184.5500030517578,183.6300048828125,182.9499969482422,178.05999755859375,174.5800018310547,176.39999389648438,173.19000244140625,170.52000427246094,174.4600067138672,174.9199981689453,171.3699951171875,170.14999389648438,170.82000732421875,173.2899932861328,175.9600067138672,175.2100067138672,177.5800018310547,180.22999572753903,179.3000030517578,179.1999969482422,179.9499969482422,179.0,174.2899932861328,176.19000244140625,179.38999938964844,178.3300018310547,176.7100067138672,178.13999938964844,178.3699951171875,177.99000549316406,181.32000732421875,182.3800048828125,179.9499969482422,181.3600006103516,182.5500030517578,182.0,180.02999877929688,187.80999755859372,184.22999572753903,178.33999633789062,174.6300048828125,173.66000366210938,171.42999267578125,171.5500030517578,170.1199951171875,174.38999938964844,174.07000732421875,170.66000366210938,172.72999572753906,171.89999389648438,173.50999450683594,169.52000427246094,168.66000366210938,164.83999633789062,163.75,161.66000366210938,162.83999633789062,162.60000610351562,163.3699951171875,164.32000732421875,163.58999633789062,163.49000549316406,165.5800018310547,166.8000030517578,166.60000610351562,165.2899932861328,165.49000549316406,164.6699981689453,160.9499969482422,164.02000427246094,157.9499969482422,155.47000122070312,155.3800048828125,155.77999877929688,159.57000732421875,160.05999755859375,158.75999450683594,156.64999389648438,158.47999572753906,160.19000244140625,161.32000732421875,163.00999450683594,163.72000122070312,171.10000610351562,171.13999938964844,170.44000244140625,169.41000366210938,169.67999267578125,170.33999633789062,171.1199951171875,172.47000122070312,172.8800048828125,172.5399932861328,172.38999938964844,170.74000549316406,170.05999755859375,170.58999633789062,172.3800048828125,170.39999389648438],\"yaxis\":\"y\",\"type\":\"scatter\"}],                        {\"template\":{\"data\":{\"histogram2dcontour\":[{\"type\":\"histogram2dcontour\",\"colorbar\":{\"outlinewidth\":0,\"ticks\":\"\"},\"colorscale\":[[0.0,\"#0d0887\"],[0.1111111111111111,\"#46039f\"],[0.2222222222222222,\"#7201a8\"],[0.3333333333333333,\"#9c179e\"],[0.4444444444444444,\"#bd3786\"],[0.5555555555555556,\"#d8576b\"],[0.6666666666666666,\"#ed7953\"],[0.7777777777777778,\"#fb9f3a\"],[0.8888888888888888,\"#fdca26\"],[1.0,\"#f0f921\"]]}],\"choropleth\":[{\"type\":\"choropleth\",\"colorbar\":{\"outlinewidth\":0,\"ticks\":\"\"}}],\"histogram2d\":[{\"type\":\"histogram2d\",\"colorbar\":{\"outlinewidth\":0,\"ticks\":\"\"},\"colorscale\":[[0.0,\"#0d0887\"],[0.1111111111111111,\"#46039f\"],[0.2222222222222222,\"#7201a8\"],[0.3333333333333333,\"#9c179e\"],[0.4444444444444444,\"#bd3786\"],[0.5555555555555556,\"#d8576b\"],[0.6666666666666666,\"#ed7953\"],[0.7777777777777778,\"#fb9f3a\"],[0.8888888888888888,\"#fdca26\"],[1.0,\"#f0f921\"]]}],\"heatmap\":[{\"type\":\"heatmap\",\"colorbar\":{\"outlinewidth\":0,\"ticks\":\"\"},\"colorscale\":[[0.0,\"#0d0887\"],[0.1111111111111111,\"#46039f\"],[0.2222222222222222,\"#7201a8\"],[0.3333333333333333,\"#9c179e\"],[0.4444444444444444,\"#bd3786\"],[0.5555555555555556,\"#d8576b\"],[0.6666666666666666,\"#ed7953\"],[0.7777777777777778,\"#fb9f3a\"],[0.8888888888888888,\"#fdca26\"],[1.0,\"#f0f921\"]]}],\"heatmapgl\":[{\"type\":\"heatmapgl\",\"colorbar\":{\"outlinewidth\":0,\"ticks\":\"\"},\"colorscale\":[[0.0,\"#0d0887\"],[0.1111111111111111,\"#46039f\"],[0.2222222222222222,\"#7201a8\"],[0.3333333333333333,\"#9c179e\"],[0.4444444444444444,\"#bd3786\"],[0.5555555555555556,\"#d8576b\"],[0.6666666666666666,\"#ed7953\"],[0.7777777777777778,\"#fb9f3a\"],[0.8888888888888888,\"#fdca26\"],[1.0,\"#f0f921\"]]}],\"contourcarpet\":[{\"type\":\"contourcarpet\",\"colorbar\":{\"outlinewidth\":0,\"ticks\":\"\"}}],\"contour\":[{\"type\":\"contour\",\"colorbar\":{\"outlinewidth\":0,\"ticks\":\"\"},\"colorscale\":[[0.0,\"#0d0887\"],[0.1111111111111111,\"#46039f\"],[0.2222222222222222,\"#7201a8\"],[0.3333333333333333,\"#9c179e\"],[0.4444444444444444,\"#bd3786\"],[0.5555555555555556,\"#d8576b\"],[0.6666666666666666,\"#ed7953\"],[0.7777777777777778,\"#fb9f3a\"],[0.8888888888888888,\"#fdca26\"],[1.0,\"#f0f921\"]]}],\"surface\":[{\"type\":\"surface\",\"colorbar\":{\"outlinewidth\":0,\"ticks\":\"\"},\"colorscale\":[[0.0,\"#0d0887\"],[0.1111111111111111,\"#46039f\"],[0.2222222222222222,\"#7201a8\"],[0.3333333333333333,\"#9c179e\"],[0.4444444444444444,\"#bd3786\"],[0.5555555555555556,\"#d8576b\"],[0.6666666666666666,\"#ed7953\"],[0.7777777777777778,\"#fb9f3a\"],[0.8888888888888888,\"#fdca26\"],[1.0,\"#f0f921\"]]}],\"mesh3d\":[{\"type\":\"mesh3d\",\"colorbar\":{\"outlinewidth\":0,\"ticks\":\"\"}}],\"scatter\":[{\"fillpattern\":{\"fillmode\":\"overlay\",\"size\":10,\"solidity\":0.2},\"type\":\"scatter\"}],\"parcoords\":[{\"type\":\"parcoords\",\"line\":{\"colorbar\":{\"outlinewidth\":0,\"ticks\":\"\"}}}],\"scatterpolargl\":[{\"type\":\"scatterpolargl\",\"marker\":{\"colorbar\":{\"outlinewidth\":0,\"ticks\":\"\"}}}],\"bar\":[{\"error_x\":{\"color\":\"#2a3f5f\"},\"error_y\":{\"color\":\"#2a3f5f\"},\"marker\":{\"line\":{\"color\":\"#E5ECF6\",\"width\":0.5},\"pattern\":{\"fillmode\":\"overlay\",\"size\":10,\"solidity\":0.2}},\"type\":\"bar\"}],\"scattergeo\":[{\"type\":\"scattergeo\",\"marker\":{\"colorbar\":{\"outlinewidth\":0,\"ticks\":\"\"}}}],\"scatterpolar\":[{\"type\":\"scatterpolar\",\"marker\":{\"colorbar\":{\"outlinewidth\":0,\"ticks\":\"\"}}}],\"histogram\":[{\"marker\":{\"pattern\":{\"fillmode\":\"overlay\",\"size\":10,\"solidity\":0.2}},\"type\":\"histogram\"}],\"scattergl\":[{\"type\":\"scattergl\",\"marker\":{\"colorbar\":{\"outlinewidth\":0,\"ticks\":\"\"}}}],\"scatter3d\":[{\"type\":\"scatter3d\",\"line\":{\"colorbar\":{\"outlinewidth\":0,\"ticks\":\"\"}},\"marker\":{\"colorbar\":{\"outlinewidth\":0,\"ticks\":\"\"}}}],\"scattermapbox\":[{\"type\":\"scattermapbox\",\"marker\":{\"colorbar\":{\"outlinewidth\":0,\"ticks\":\"\"}}}],\"scatterternary\":[{\"type\":\"scatterternary\",\"marker\":{\"colorbar\":{\"outlinewidth\":0,\"ticks\":\"\"}}}],\"scattercarpet\":[{\"type\":\"scattercarpet\",\"marker\":{\"colorbar\":{\"outlinewidth\":0,\"ticks\":\"\"}}}],\"carpet\":[{\"aaxis\":{\"endlinecolor\":\"#2a3f5f\",\"gridcolor\":\"white\",\"linecolor\":\"white\",\"minorgridcolor\":\"white\",\"startlinecolor\":\"#2a3f5f\"},\"baxis\":{\"endlinecolor\":\"#2a3f5f\",\"gridcolor\":\"white\",\"linecolor\":\"white\",\"minorgridcolor\":\"white\",\"startlinecolor\":\"#2a3f5f\"},\"type\":\"carpet\"}],\"table\":[{\"cells\":{\"fill\":{\"color\":\"#EBF0F8\"},\"line\":{\"color\":\"white\"}},\"header\":{\"fill\":{\"color\":\"#C8D4E3\"},\"line\":{\"color\":\"white\"}},\"type\":\"table\"}],\"barpolar\":[{\"marker\":{\"line\":{\"color\":\"#E5ECF6\",\"width\":0.5},\"pattern\":{\"fillmode\":\"overlay\",\"size\":10,\"solidity\":0.2}},\"type\":\"barpolar\"}],\"pie\":[{\"automargin\":true,\"type\":\"pie\"}]},\"layout\":{\"autotypenumbers\":\"strict\",\"colorway\":[\"#636efa\",\"#EF553B\",\"#00cc96\",\"#ab63fa\",\"#FFA15A\",\"#19d3f3\",\"#FF6692\",\"#B6E880\",\"#FF97FF\",\"#FECB52\"],\"font\":{\"color\":\"#2a3f5f\"},\"hovermode\":\"closest\",\"hoverlabel\":{\"align\":\"left\"},\"paper_bgcolor\":\"white\",\"plot_bgcolor\":\"#E5ECF6\",\"polar\":{\"bgcolor\":\"#E5ECF6\",\"angularaxis\":{\"gridcolor\":\"white\",\"linecolor\":\"white\",\"ticks\":\"\"},\"radialaxis\":{\"gridcolor\":\"white\",\"linecolor\":\"white\",\"ticks\":\"\"}},\"ternary\":{\"bgcolor\":\"#E5ECF6\",\"aaxis\":{\"gridcolor\":\"white\",\"linecolor\":\"white\",\"ticks\":\"\"},\"baxis\":{\"gridcolor\":\"white\",\"linecolor\":\"white\",\"ticks\":\"\"},\"caxis\":{\"gridcolor\":\"white\",\"linecolor\":\"white\",\"ticks\":\"\"}},\"coloraxis\":{\"colorbar\":{\"outlinewidth\":0,\"ticks\":\"\"}},\"colorscale\":{\"sequential\":[[0.0,\"#0d0887\"],[0.1111111111111111,\"#46039f\"],[0.2222222222222222,\"#7201a8\"],[0.3333333333333333,\"#9c179e\"],[0.4444444444444444,\"#bd3786\"],[0.5555555555555556,\"#d8576b\"],[0.6666666666666666,\"#ed7953\"],[0.7777777777777778,\"#fb9f3a\"],[0.8888888888888888,\"#fdca26\"],[1.0,\"#f0f921\"]],\"sequentialminus\":[[0.0,\"#0d0887\"],[0.1111111111111111,\"#46039f\"],[0.2222222222222222,\"#7201a8\"],[0.3333333333333333,\"#9c179e\"],[0.4444444444444444,\"#bd3786\"],[0.5555555555555556,\"#d8576b\"],[0.6666666666666666,\"#ed7953\"],[0.7777777777777778,\"#fb9f3a\"],[0.8888888888888888,\"#fdca26\"],[1.0,\"#f0f921\"]],\"diverging\":[[0,\"#8e0152\"],[0.1,\"#c51b7d\"],[0.2,\"#de77ae\"],[0.3,\"#f1b6da\"],[0.4,\"#fde0ef\"],[0.5,\"#f7f7f7\"],[0.6,\"#e6f5d0\"],[0.7,\"#b8e186\"],[0.8,\"#7fbc41\"],[0.9,\"#4d9221\"],[1,\"#276419\"]]},\"xaxis\":{\"gridcolor\":\"white\",\"linecolor\":\"white\",\"ticks\":\"\",\"title\":{\"standoff\":15},\"zerolinecolor\":\"white\",\"automargin\":true,\"zerolinewidth\":2},\"yaxis\":{\"gridcolor\":\"white\",\"linecolor\":\"white\",\"ticks\":\"\",\"title\":{\"standoff\":15},\"zerolinecolor\":\"white\",\"automargin\":true,\"zerolinewidth\":2},\"scene\":{\"xaxis\":{\"backgroundcolor\":\"#E5ECF6\",\"gridcolor\":\"white\",\"linecolor\":\"white\",\"showbackground\":true,\"ticks\":\"\",\"zerolinecolor\":\"white\",\"gridwidth\":2},\"yaxis\":{\"backgroundcolor\":\"#E5ECF6\",\"gridcolor\":\"white\",\"linecolor\":\"white\",\"showbackground\":true,\"ticks\":\"\",\"zerolinecolor\":\"white\",\"gridwidth\":2},\"zaxis\":{\"backgroundcolor\":\"#E5ECF6\",\"gridcolor\":\"white\",\"linecolor\":\"white\",\"showbackground\":true,\"ticks\":\"\",\"zerolinecolor\":\"white\",\"gridwidth\":2}},\"shapedefaults\":{\"line\":{\"color\":\"#2a3f5f\"}},\"annotationdefaults\":{\"arrowcolor\":\"#2a3f5f\",\"arrowhead\":0,\"arrowwidth\":1},\"geo\":{\"bgcolor\":\"white\",\"landcolor\":\"#E5ECF6\",\"subunitcolor\":\"white\",\"showland\":true,\"showlakes\":true,\"lakecolor\":\"white\"},\"title\":{\"x\":0.05},\"mapbox\":{\"style\":\"light\"}}},\"xaxis\":{\"anchor\":\"y\",\"domain\":[0.0,1.0],\"title\":{\"text\":\"Date\"},\"rangeslider\":{\"visible\":true}},\"yaxis\":{\"anchor\":\"x\",\"domain\":[0.0,1.0],\"title\":{\"text\":\"High\"}},\"legend\":{\"tracegroupgap\":0},\"title\":{\"text\":\"Time Series with Rangeslider\"}},                        {\"responsive\": true}                    ).then(function(){\n",
              "                            \n",
              "var gd = document.getElementById('1a7ae6ef-2dd7-491e-81ca-baf8a80de092');\n",
              "var x = new MutationObserver(function (mutations, observer) {{\n",
              "        var display = window.getComputedStyle(gd).display;\n",
              "        if (!display || display === 'none') {{\n",
              "            console.log([gd, 'removed!']);\n",
              "            Plotly.purge(gd);\n",
              "            observer.disconnect();\n",
              "        }}\n",
              "}});\n",
              "\n",
              "// Listen for the removal of the full notebook cells\n",
              "var notebookContainer = gd.closest('#notebook-container');\n",
              "if (notebookContainer) {{\n",
              "    x.observe(notebookContainer, {childList: true});\n",
              "}}\n",
              "\n",
              "// Listen for the clearing of the current output cell\n",
              "var outputEl = gd.closest('.output');\n",
              "if (outputEl) {{\n",
              "    x.observe(outputEl, {childList: true});\n",
              "}}\n",
              "\n",
              "                        })                };                            </script>        </div>\n",
              "</body>\n",
              "</html>"
            ]
          },
          "metadata": {}
        }
      ]
    },
    {
      "cell_type": "code",
      "source": [
        "df_stock"
      ],
      "metadata": {
        "colab": {
          "base_uri": "https://localhost:8080/",
          "height": 424
        },
        "id": "NTPcNmL4Pbtl",
        "outputId": "b3ad81de-9247-4344-b300-18bfa7971ee3"
      },
      "execution_count": null,
      "outputs": [
        {
          "output_type": "execute_result",
          "data": {
            "text/plain": [
              "      Unnamed: 0        Date        Open        High         Low       Close  \\\n",
              "2934        2934  2021-05-17  109.089996  110.879997  108.970001  110.809998   \n",
              "2935        2935  2021-05-18  108.940002  109.059998  105.970001  106.180000   \n",
              "2936        2936  2021-05-19  103.820000  104.290001  101.970001  103.199997   \n",
              "2937        2937  2021-05-20  103.070000  104.070000  101.970001  103.559998   \n",
              "2938        2938  2021-05-21  104.099998  105.199997  103.680000  104.120003   \n",
              "...          ...         ...         ...         ...         ...         ...   \n",
              "3418        3418  2023-04-19  169.460007  170.740005  169.100006  170.679993   \n",
              "3419        3419  2023-04-20  168.759995  170.059998  168.020004  169.850006   \n",
              "3420        3420  2023-04-21  169.830002  170.589996  168.839996  169.119995   \n",
              "3421        3421  2023-04-24  169.100006  172.380005  168.580002  171.479996   \n",
              "3422        3422  2023-04-25  170.320007  170.399994  168.429993  168.990005   \n",
              "\n",
              "       Adj Close    Volume Ticker  \n",
              "2934  102.163795  12692900    CVX  \n",
              "2935   99.093376  12759900    CVX  \n",
              "2936   96.312256  14762700    CVX  \n",
              "2937   96.648232   9706300    CVX  \n",
              "2938   97.170860  10352800    CVX  \n",
              "...          ...       ...    ...  \n",
              "3418  170.679993   5506800    CVX  \n",
              "3419  169.850006   5851100    CVX  \n",
              "3420  169.119995   7178600    CVX  \n",
              "3421  171.479996   7177600    CVX  \n",
              "3422  168.990005   5804800    CVX  \n",
              "\n",
              "[489 rows x 9 columns]"
            ],
            "text/html": [
              "\n",
              "  <div id=\"df-f11d4454-92c6-4f9e-8a28-845091280b63\">\n",
              "    <div class=\"colab-df-container\">\n",
              "      <div>\n",
              "<style scoped>\n",
              "    .dataframe tbody tr th:only-of-type {\n",
              "        vertical-align: middle;\n",
              "    }\n",
              "\n",
              "    .dataframe tbody tr th {\n",
              "        vertical-align: top;\n",
              "    }\n",
              "\n",
              "    .dataframe thead th {\n",
              "        text-align: right;\n",
              "    }\n",
              "</style>\n",
              "<table border=\"1\" class=\"dataframe\">\n",
              "  <thead>\n",
              "    <tr style=\"text-align: right;\">\n",
              "      <th></th>\n",
              "      <th>Unnamed: 0</th>\n",
              "      <th>Date</th>\n",
              "      <th>Open</th>\n",
              "      <th>High</th>\n",
              "      <th>Low</th>\n",
              "      <th>Close</th>\n",
              "      <th>Adj Close</th>\n",
              "      <th>Volume</th>\n",
              "      <th>Ticker</th>\n",
              "    </tr>\n",
              "  </thead>\n",
              "  <tbody>\n",
              "    <tr>\n",
              "      <th>2934</th>\n",
              "      <td>2934</td>\n",
              "      <td>2021-05-17</td>\n",
              "      <td>109.089996</td>\n",
              "      <td>110.879997</td>\n",
              "      <td>108.970001</td>\n",
              "      <td>110.809998</td>\n",
              "      <td>102.163795</td>\n",
              "      <td>12692900</td>\n",
              "      <td>CVX</td>\n",
              "    </tr>\n",
              "    <tr>\n",
              "      <th>2935</th>\n",
              "      <td>2935</td>\n",
              "      <td>2021-05-18</td>\n",
              "      <td>108.940002</td>\n",
              "      <td>109.059998</td>\n",
              "      <td>105.970001</td>\n",
              "      <td>106.180000</td>\n",
              "      <td>99.093376</td>\n",
              "      <td>12759900</td>\n",
              "      <td>CVX</td>\n",
              "    </tr>\n",
              "    <tr>\n",
              "      <th>2936</th>\n",
              "      <td>2936</td>\n",
              "      <td>2021-05-19</td>\n",
              "      <td>103.820000</td>\n",
              "      <td>104.290001</td>\n",
              "      <td>101.970001</td>\n",
              "      <td>103.199997</td>\n",
              "      <td>96.312256</td>\n",
              "      <td>14762700</td>\n",
              "      <td>CVX</td>\n",
              "    </tr>\n",
              "    <tr>\n",
              "      <th>2937</th>\n",
              "      <td>2937</td>\n",
              "      <td>2021-05-20</td>\n",
              "      <td>103.070000</td>\n",
              "      <td>104.070000</td>\n",
              "      <td>101.970001</td>\n",
              "      <td>103.559998</td>\n",
              "      <td>96.648232</td>\n",
              "      <td>9706300</td>\n",
              "      <td>CVX</td>\n",
              "    </tr>\n",
              "    <tr>\n",
              "      <th>2938</th>\n",
              "      <td>2938</td>\n",
              "      <td>2021-05-21</td>\n",
              "      <td>104.099998</td>\n",
              "      <td>105.199997</td>\n",
              "      <td>103.680000</td>\n",
              "      <td>104.120003</td>\n",
              "      <td>97.170860</td>\n",
              "      <td>10352800</td>\n",
              "      <td>CVX</td>\n",
              "    </tr>\n",
              "    <tr>\n",
              "      <th>...</th>\n",
              "      <td>...</td>\n",
              "      <td>...</td>\n",
              "      <td>...</td>\n",
              "      <td>...</td>\n",
              "      <td>...</td>\n",
              "      <td>...</td>\n",
              "      <td>...</td>\n",
              "      <td>...</td>\n",
              "      <td>...</td>\n",
              "    </tr>\n",
              "    <tr>\n",
              "      <th>3418</th>\n",
              "      <td>3418</td>\n",
              "      <td>2023-04-19</td>\n",
              "      <td>169.460007</td>\n",
              "      <td>170.740005</td>\n",
              "      <td>169.100006</td>\n",
              "      <td>170.679993</td>\n",
              "      <td>170.679993</td>\n",
              "      <td>5506800</td>\n",
              "      <td>CVX</td>\n",
              "    </tr>\n",
              "    <tr>\n",
              "      <th>3419</th>\n",
              "      <td>3419</td>\n",
              "      <td>2023-04-20</td>\n",
              "      <td>168.759995</td>\n",
              "      <td>170.059998</td>\n",
              "      <td>168.020004</td>\n",
              "      <td>169.850006</td>\n",
              "      <td>169.850006</td>\n",
              "      <td>5851100</td>\n",
              "      <td>CVX</td>\n",
              "    </tr>\n",
              "    <tr>\n",
              "      <th>3420</th>\n",
              "      <td>3420</td>\n",
              "      <td>2023-04-21</td>\n",
              "      <td>169.830002</td>\n",
              "      <td>170.589996</td>\n",
              "      <td>168.839996</td>\n",
              "      <td>169.119995</td>\n",
              "      <td>169.119995</td>\n",
              "      <td>7178600</td>\n",
              "      <td>CVX</td>\n",
              "    </tr>\n",
              "    <tr>\n",
              "      <th>3421</th>\n",
              "      <td>3421</td>\n",
              "      <td>2023-04-24</td>\n",
              "      <td>169.100006</td>\n",
              "      <td>172.380005</td>\n",
              "      <td>168.580002</td>\n",
              "      <td>171.479996</td>\n",
              "      <td>171.479996</td>\n",
              "      <td>7177600</td>\n",
              "      <td>CVX</td>\n",
              "    </tr>\n",
              "    <tr>\n",
              "      <th>3422</th>\n",
              "      <td>3422</td>\n",
              "      <td>2023-04-25</td>\n",
              "      <td>170.320007</td>\n",
              "      <td>170.399994</td>\n",
              "      <td>168.429993</td>\n",
              "      <td>168.990005</td>\n",
              "      <td>168.990005</td>\n",
              "      <td>5804800</td>\n",
              "      <td>CVX</td>\n",
              "    </tr>\n",
              "  </tbody>\n",
              "</table>\n",
              "<p>489 rows × 9 columns</p>\n",
              "</div>\n",
              "      <button class=\"colab-df-convert\" onclick=\"convertToInteractive('df-f11d4454-92c6-4f9e-8a28-845091280b63')\"\n",
              "              title=\"Convert this dataframe to an interactive table.\"\n",
              "              style=\"display:none;\">\n",
              "        \n",
              "  <svg xmlns=\"http://www.w3.org/2000/svg\" height=\"24px\"viewBox=\"0 0 24 24\"\n",
              "       width=\"24px\">\n",
              "    <path d=\"M0 0h24v24H0V0z\" fill=\"none\"/>\n",
              "    <path d=\"M18.56 5.44l.94 2.06.94-2.06 2.06-.94-2.06-.94-.94-2.06-.94 2.06-2.06.94zm-11 1L8.5 8.5l.94-2.06 2.06-.94-2.06-.94L8.5 2.5l-.94 2.06-2.06.94zm10 10l.94 2.06.94-2.06 2.06-.94-2.06-.94-.94-2.06-.94 2.06-2.06.94z\"/><path d=\"M17.41 7.96l-1.37-1.37c-.4-.4-.92-.59-1.43-.59-.52 0-1.04.2-1.43.59L10.3 9.45l-7.72 7.72c-.78.78-.78 2.05 0 2.83L4 21.41c.39.39.9.59 1.41.59.51 0 1.02-.2 1.41-.59l7.78-7.78 2.81-2.81c.8-.78.8-2.07 0-2.86zM5.41 20L4 18.59l7.72-7.72 1.47 1.35L5.41 20z\"/>\n",
              "  </svg>\n",
              "      </button>\n",
              "      \n",
              "  <style>\n",
              "    .colab-df-container {\n",
              "      display:flex;\n",
              "      flex-wrap:wrap;\n",
              "      gap: 12px;\n",
              "    }\n",
              "\n",
              "    .colab-df-convert {\n",
              "      background-color: #E8F0FE;\n",
              "      border: none;\n",
              "      border-radius: 50%;\n",
              "      cursor: pointer;\n",
              "      display: none;\n",
              "      fill: #1967D2;\n",
              "      height: 32px;\n",
              "      padding: 0 0 0 0;\n",
              "      width: 32px;\n",
              "    }\n",
              "\n",
              "    .colab-df-convert:hover {\n",
              "      background-color: #E2EBFA;\n",
              "      box-shadow: 0px 1px 2px rgba(60, 64, 67, 0.3), 0px 1px 3px 1px rgba(60, 64, 67, 0.15);\n",
              "      fill: #174EA6;\n",
              "    }\n",
              "\n",
              "    [theme=dark] .colab-df-convert {\n",
              "      background-color: #3B4455;\n",
              "      fill: #D2E3FC;\n",
              "    }\n",
              "\n",
              "    [theme=dark] .colab-df-convert:hover {\n",
              "      background-color: #434B5C;\n",
              "      box-shadow: 0px 1px 3px 1px rgba(0, 0, 0, 0.15);\n",
              "      filter: drop-shadow(0px 1px 2px rgba(0, 0, 0, 0.3));\n",
              "      fill: #FFFFFF;\n",
              "    }\n",
              "  </style>\n",
              "\n",
              "      <script>\n",
              "        const buttonEl =\n",
              "          document.querySelector('#df-f11d4454-92c6-4f9e-8a28-845091280b63 button.colab-df-convert');\n",
              "        buttonEl.style.display =\n",
              "          google.colab.kernel.accessAllowed ? 'block' : 'none';\n",
              "\n",
              "        async function convertToInteractive(key) {\n",
              "          const element = document.querySelector('#df-f11d4454-92c6-4f9e-8a28-845091280b63');\n",
              "          const dataTable =\n",
              "            await google.colab.kernel.invokeFunction('convertToInteractive',\n",
              "                                                     [key], {});\n",
              "          if (!dataTable) return;\n",
              "\n",
              "          const docLinkHtml = 'Like what you see? Visit the ' +\n",
              "            '<a target=\"_blank\" href=https://colab.research.google.com/notebooks/data_table.ipynb>data table notebook</a>'\n",
              "            + ' to learn more about interactive tables.';\n",
              "          element.innerHTML = '';\n",
              "          dataTable['output_type'] = 'display_data';\n",
              "          await google.colab.output.renderOutput(dataTable, element);\n",
              "          const docLink = document.createElement('div');\n",
              "          docLink.innerHTML = docLinkHtml;\n",
              "          element.appendChild(docLink);\n",
              "        }\n",
              "      </script>\n",
              "    </div>\n",
              "  </div>\n",
              "  "
            ]
          },
          "metadata": {},
          "execution_count": 14
        }
      ]
    },
    {
      "cell_type": "code",
      "source": [],
      "metadata": {
        "id": "BcTrQQgLPjP2"
      },
      "execution_count": null,
      "outputs": []
    }
  ]
}